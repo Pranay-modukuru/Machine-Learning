{
 "cells": [
  {
   "cell_type": "markdown",
   "metadata": {},
   "source": [
    "# Linear Regression in Python"
   ]
  },
  {
   "cell_type": "markdown",
   "metadata": {},
   "source": [
    "This notebook shows how to build a Linear regression model from scratch."
   ]
  },
  {
   "cell_type": "code",
   "execution_count": 1,
   "metadata": {},
   "outputs": [],
   "source": [
    "#%% Importing Libraries\n",
    "import numpy as np\n",
    "import matplotlib.pyplot as plt\n",
    "\n",
    "#%% Setting random seed\n",
    "np.random.seed(10)"
   ]
  },
  {
   "cell_type": "code",
   "execution_count": 2,
   "metadata": {},
   "outputs": [],
   "source": [
    "# Generate Random data\n",
    "x = np.random.randn(100,1)\n",
    "\n",
    "# Generate random noise [same shape as input]\n",
    "noise = np.random.randn(100,1)\n",
    "\n",
    "# Generate true outputs\n",
    "# ( y = mx + c)\n",
    "y_true = 3 * x + 2 + 0.5 * noise "
   ]
  },
  {
   "cell_type": "markdown",
   "metadata": {},
   "source": [
    "We generated the target values by using a slope '3' and intercept '2'.\n",
    "\n",
    "By doing linear regression we expect to train our model to reach these values in order to correctly model this line."
   ]
  },
  {
   "cell_type": "code",
   "execution_count": 3,
   "metadata": {},
   "outputs": [],
   "source": [
    "#Training and Validation split\n",
    "shuffle_idx = np.random.permutation(x.size)\n",
    "\n",
    "x_train, y_train = x[shuffle_idx[:80]], y_true[shuffle_idx[:80]]\n",
    "x_valid, y_valid = x[shuffle_idx[80:]], y_true[shuffle_idx[80:]] "
   ]
  },
  {
   "cell_type": "markdown",
   "metadata": {},
   "source": [
    "Our Data is ready. \n",
    "\n",
    "Now we have to build a model to implement Linear Regression. We use Gradient descent algorithm to optimize the model."
   ]
  },
  {
   "cell_type": "code",
   "execution_count": 4,
   "metadata": {},
   "outputs": [],
   "source": [
    "class LinearRegressionwithGD():\n",
    "    \"\"\"\n",
    "    Linear Regression class\n",
    "    \"\"\"\n",
    "    def __init__(self, slope, intercept, lr):\n",
    "        self.slope = slope\n",
    "        self.intercept = intercept\n",
    "        self.lr = lr\n",
    "        self.train = True\n",
    "        \n",
    "    def predict(self, data):\n",
    "        \"\"\" \n",
    "        Predicts output given input data\n",
    "        \"\"\"\n",
    "        out = np.dot(data,self.slope) + self.intercept\n",
    "        self.d = data\n",
    "        return out\n",
    "    \n",
    "    def MSEloss(self,predicted, true):\n",
    "        \"\"\"\n",
    "        Calculates MSE loss and also calculates gradients of slope, intercept\n",
    "        \"\"\"\n",
    "        error = predicted - true\n",
    "        loss = (error**2).mean()\n",
    "        \n",
    "        if self.train == True:\n",
    "            # Gradients calculated only during training\n",
    "            self.slope_grad =  2 * (self.d * error).mean()\n",
    "            self.intercept_grad = 2 * error.mean()\n",
    "        \n",
    "        return loss\n",
    "    \n",
    "    def set_mode(self, mode):\n",
    "        \"\"\"\n",
    "        Sets the mode of the model\n",
    "        if 'train' : Gradients are calculated\n",
    "        if 'eval' : Gradients are ignored\n",
    "        \"\"\"\n",
    "        if mode == 'train':\n",
    "            self.train = True\n",
    "        elif mode == 'eval':\n",
    "            self.train = False\n",
    "        \n",
    "    def update(self):\n",
    "        \"\"\"\n",
    "        Updates parameters and makes gradients zero after update\n",
    "        \"\"\"\n",
    "        self.slope -= self.lr * self.slope_grad\n",
    "        self.intercept -= self.lr * self.intercept_grad\n",
    "        \n",
    "        self.slope_grad = 0\n",
    "        self.intercept_grad = 0"
   ]
  },
  {
   "cell_type": "markdown",
   "metadata": {},
   "source": [
    "Now that we are ready with the model, we can initiate the initial slope and intercept for our model. Here I used numpy to generate random values to initiate the model."
   ]
  },
  {
   "cell_type": "code",
   "execution_count": 5,
   "metadata": {},
   "outputs": [],
   "source": [
    "#%% Initiate model\n",
    "slope = np.random.rand(1,1)\n",
    "intercept = np.random.rand(1,1)\n",
    "\n",
    "model = LinearRegressionwithGD(slope= slope,intercept= intercept, lr= 0.01)"
   ]
  },
  {
   "cell_type": "code",
   "execution_count": 6,
   "metadata": {},
   "outputs": [
    {
     "name": "stdout",
     "output_type": "stream",
     "text": [
      "Before Training \n",
      "Slope :  [[0.52885388]]\n",
      "Intercept :  [[0.69630827]]\n"
     ]
    }
   ],
   "source": [
    "print('Before Training ')\n",
    "print('Slope : ', model.slope)\n",
    "print('Intercept : ', model.intercept)"
   ]
  },
  {
   "cell_type": "markdown",
   "metadata": {},
   "source": [
    "Now we train the model for desired number of cycles. \n",
    "\n",
    "Each cycle should have three steps to correctly train the model:\n",
    "1. predict\n",
    "2. calculate loss\n",
    "3. update"
   ]
  },
  {
   "cell_type": "code",
   "execution_count": 7,
   "metadata": {},
   "outputs": [
    {
     "name": "stdout",
     "output_type": "stream",
     "text": [
      "Epoch : 0, Loss : 7.2473\n",
      "Epoch : 100, Loss : 0.4296\n",
      "Epoch : 200, Loss : 0.2409\n",
      "Epoch : 300, Loss : 0.2342\n",
      "Epoch : 400, Loss : 0.2340\n",
      "Epoch : 500, Loss : 0.2339\n",
      "Epoch : 600, Loss : 0.2339\n",
      "Epoch : 700, Loss : 0.2339\n",
      "Epoch : 800, Loss : 0.2339\n",
      "Epoch : 900, Loss : 0.2339\n"
     ]
    }
   ],
   "source": [
    "#%% Start training\n",
    "losses = np.array([])\n",
    "\n",
    "model.set_mode('train')\n",
    "\n",
    "for i in range(1000):\n",
    "\n",
    "    y_pred = model.predict(x_train)\n",
    "\n",
    "    loss = model.MSEloss(y_pred, y_train)\n",
    "    losses = np.append(losses, loss)\n",
    "\n",
    "    model.update()\n",
    "\n",
    "    if i % 100 == 0:\n",
    "        print('Epoch : {:d}, Loss : {:.4f}'.format(i,loss))"
   ]
  },
  {
   "cell_type": "code",
   "execution_count": 8,
   "metadata": {},
   "outputs": [
    {
     "name": "stdout",
     "output_type": "stream",
     "text": [
      "\n",
      "After Training \n",
      "Slope :  [[2.97957634]]\n",
      "Intercept :  [[2.02758384]]\n"
     ]
    }
   ],
   "source": [
    "print('\\nAfter Training ')\n",
    "print('Slope : ', model.slope)\n",
    "print('Intercept : ', model.intercept)"
   ]
  },
  {
   "cell_type": "markdown",
   "metadata": {},
   "source": [
    "The actual values we used to generate the line are \n",
    "Slope : 3\n",
    "intercept : 2\n",
    "\n",
    "As we can see after running the model for 1000 epochs, the model learnt these values."
   ]
  },
  {
   "cell_type": "code",
   "execution_count": 23,
   "metadata": {},
   "outputs": [
    {
     "name": "stdout",
     "output_type": "stream",
     "text": [
      "\n",
      "Loss on Validation set : 0.2865\n"
     ]
    }
   ],
   "source": [
    "#%% Test performance of model\n",
    "\n",
    "model.set_mode('eval')\n",
    "\n",
    "y = model.predict(x_valid)\n",
    "model_error = model.MSEloss(y, y_valid)\n",
    "\n",
    "print('\\nLoss on Validation set : {:.4f}'.format(loss))"
   ]
  },
  {
   "cell_type": "code",
   "execution_count": 10,
   "metadata": {},
   "outputs": [
    {
     "data": {
      "text/plain": [
       "<matplotlib.legend.Legend at 0x1c0f1e106d8>"
      ]
     },
     "execution_count": 10,
     "metadata": {},
     "output_type": "execute_result"
    },
    {
     "data": {
      "image/png": "[encoded data removed]",
      "text/plain": [
       "<Figure size 432x288 with 1 Axes>"
      ]
     },
     "metadata": {
      "needs_background": "light"
     },
     "output_type": "display_data"
    }
   ],
   "source": [
    "# Loss\n",
    "fig = plt.figure(figsize = (6,4))\n",
    "ax = fig.add_subplot(111)\n",
    "ax.plot(range(losses.size),losses, label = 'training loss')\n",
    "ax.set_xlabel('epoch')\n",
    "ax.set_ylabel('Loss')\n",
    "ax.legend(loc = 'best')"
   ]
  },
  {
   "cell_type": "code",
   "execution_count": 11,
   "metadata": {},
   "outputs": [
    {
     "data": {
      "text/plain": [
       "<matplotlib.legend.Legend at 0x1c0f1ecc550>"
      ]
     },
     "execution_count": 11,
     "metadata": {},
     "output_type": "execute_result"
    },
    {
     "data": {
      "image/png": "[encoded data removed]",
      "text/plain": [
       "<Figure size 432x288 with 1 Axes>"
      ]
     },
     "metadata": {
      "needs_background": "light"
     },
     "output_type": "display_data"
    }
   ],
   "source": [
    "# Regression Line\n",
    "y_plot = model.predict(x)\n",
    "fig = plt.figure(figsize=(6,4))\n",
    "ax = fig.add_subplot(111)\n",
    "ax.scatter(y_train, x_train, c = 'blue', label = 'training data')\n",
    "ax.scatter(y_valid, x_valid, c ='orange', label = 'validation data')\n",
    "ax.plot(y_plot ,x, c = 'red',label = 'regression line')\n",
    "ax.set_xlabel('x')\n",
    "ax.set_ylabel('y')\n",
    "ax.legend(loc = 'best')"
   ]
  },
  {
   "cell_type": "markdown",
   "metadata": {},
   "source": [
    "The results are compared with Linear Regression model from sklearn."
   ]
  },
  {
   "cell_type": "code",
   "execution_count": 12,
   "metadata": {},
   "outputs": [],
   "source": [
    "from sklearn.linear_model import LinearRegression"
   ]
  },
  {
   "cell_type": "code",
   "execution_count": 13,
   "metadata": {},
   "outputs": [],
   "source": [
    "sk_model = LinearRegression()"
   ]
  },
  {
   "cell_type": "code",
   "execution_count": 14,
   "metadata": {},
   "outputs": [
    {
     "data": {
      "text/plain": [
       "LinearRegression(copy_X=True, fit_intercept=True, n_jobs=None,\n",
       "         normalize=False)"
      ]
     },
     "execution_count": 14,
     "metadata": {},
     "output_type": "execute_result"
    }
   ],
   "source": [
    "sk_model.fit(x_train,y_train)"
   ]
  },
  {
   "cell_type": "code",
   "execution_count": 15,
   "metadata": {},
   "outputs": [
    {
     "name": "stdout",
     "output_type": "stream",
     "text": [
      "After fitting the model to training data\n",
      "Slope :  [[2.9795767]]\n",
      "Intercept :  [2.02758372]\n"
     ]
    }
   ],
   "source": [
    "print('After fitting the model to training data')\n",
    "print('Slope : ',sk_model.coef_)\n",
    "print('Intercept : ',sk_model.intercept_)"
   ]
  },
  {
   "cell_type": "markdown",
   "metadata": {},
   "source": [
    "#### The model developed and the model created using sklearn almost perform similarly."
   ]
  },
  {
   "cell_type": "code",
   "execution_count": 17,
   "metadata": {},
   "outputs": [],
   "source": [
    "y_sk = sk_model.predict(x_valid)"
   ]
  },
  {
   "cell_type": "code",
   "execution_count": 19,
   "metadata": {},
   "outputs": [],
   "source": [
    "from sklearn.metrics import mean_squared_error"
   ]
  },
  {
   "cell_type": "code",
   "execution_count": 22,
   "metadata": {},
   "outputs": [
    {
     "name": "stdout",
     "output_type": "stream",
     "text": [
      "0.2865071877492776\n"
     ]
    }
   ],
   "source": [
    "sk_model_error = mean_squared_error(y_valid, y_sk)\n",
    "print(sk_model_error)"
   ]
  },
  {
   "cell_type": "code",
   "execution_count": 24,
   "metadata": {},
   "outputs": [
    {
     "name": "stdout",
     "output_type": "stream",
     "text": [
      "Error obtained with Developed model :  0.2865073617504898\n",
      "Error obtained with Sk Learn Model : 0.2865071877492776\n"
     ]
    }
   ],
   "source": [
    "print('Error obtained with Developed model : ', model_error)\n",
    "print('Error obtained with Sk Learn Model :', sk_model_error)"
   ]
  }
 ],
 "metadata": {
  "kernelspec": {
   "display_name": "Python 3",
   "language": "python",
   "name": "python3"
  },
  "language_info": {
   "codemirror_mode": {
    "name": "ipython",
    "version": 3
   },
   "file_extension": ".py",
   "mimetype": "text/x-python",
   "name": "python",
   "nbconvert_exporter": "python",
   "pygments_lexer": "ipython3",
   "version": "3.7.3"
  }
 },
 "nbformat": 4,
 "nbformat_minor": 2
}
