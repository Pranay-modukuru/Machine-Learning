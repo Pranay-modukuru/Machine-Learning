{
 "cells": [
  {
   "cell_type": "markdown",
   "metadata": {},
   "source": [
    "## Servo Data Set\n",
    "\n",
    "Dataset available at https://archive.ics.uci.edu/ml/datasets/Servo\n",
    "\n",
    "#### Data Set Information:\n",
    "\n",
    "    The data was from a simulation of a servo system involving a servo amplifier, a motor, a lead screw/nut, and a sliding carriage of some sort. The output value is rise time, or the time required for the system to respond to a step change in a position set point.\n",
    "\n",
    "    This data covers an extremely non-linear phenomenon - predicting the rise time of a servomechanism in terms of two (continuous) gain settings and two (discrete) choices of mechanical linkages.\n",
    "\n",
    "\n",
    "#### Attribute Information:\n",
    "\n",
    "    1. motor: A,B,C,D,E\n",
    "    2. screw: A,B,C,D,E\n",
    "    3. pgain: 3,4,5,6\n",
    "    4. vgain: 1,2,3,4,5\n",
    "    5. class: 0.13 to 7.10\n",
    "\n",
    "\n",
    "### Regression Task\n",
    "\n",
    "    This notebook demonstrates how a machine learning model can determine the rise time of a servo motor based on the mechanical parameters and the gain values of a controller. "
   ]
  },
  {
   "cell_type": "code",
   "execution_count": 1,
   "metadata": {},
   "outputs": [],
   "source": [
    "import numpy as np\n",
    "import pandas as pd\n",
    "import matplotlib.pyplot as plt\n",
    "import seaborn as sns\n",
    "\n",
    "from sklearn.linear_model import LinearRegression, Lasso, Ridge\n",
    "from sklearn.tree import DecisionTreeRegressor\n",
    "from sklearn.ensemble import RandomForestRegressor\n",
    "\n",
    "from sklearn.metrics import mean_squared_error, mean_absolute_error, r2_score\n",
    "\n",
    "from sklearn.model_selection import cross_val_score, KFold, cross_validate\n",
    "from sklearn.model_selection import train_test_split\n",
    "from sklearn.preprocessing import LabelEncoder\n",
    "\n",
    "seed = 92\n",
    "np.random.seed(seed)\n",
    "%matplotlib inline\n",
    "\n",
    "import warnings\n",
    "warnings.filterwarnings(\"ignore\")"
   ]
  },
  {
   "cell_type": "code",
   "execution_count": 2,
   "metadata": {},
   "outputs": [],
   "source": [
    "col_names = ['motor', 'screw', 'pgain', 'vgain', 'rise_time']\n",
    "\n",
    "df = pd.read_csv('data/servo.data', header = None, names=col_names)"
   ]
  },
  {
   "cell_type": "code",
   "execution_count": 3,
   "metadata": {},
   "outputs": [
    {
     "data": {
      "text/html": [
       "<div>\n",
       "<style scoped>\n",
       "    .dataframe tbody tr th:only-of-type {\n",
       "        vertical-align: middle;\n",
       "    }\n",
       "\n",
       "    .dataframe tbody tr th {\n",
       "        vertical-align: top;\n",
       "    }\n",
       "\n",
       "    .dataframe thead th {\n",
       "        text-align: right;\n",
       "    }\n",
       "</style>\n",
       "<table border=\"1\" class=\"dataframe\">\n",
       "  <thead>\n",
       "    <tr style=\"text-align: right;\">\n",
       "      <th></th>\n",
       "      <th>motor</th>\n",
       "      <th>screw</th>\n",
       "      <th>pgain</th>\n",
       "      <th>vgain</th>\n",
       "      <th>rise_time</th>\n",
       "    </tr>\n",
       "  </thead>\n",
       "  <tbody>\n",
       "    <tr>\n",
       "      <td>0</td>\n",
       "      <td>E</td>\n",
       "      <td>E</td>\n",
       "      <td>5</td>\n",
       "      <td>4</td>\n",
       "      <td>0.281251</td>\n",
       "    </tr>\n",
       "    <tr>\n",
       "      <td>1</td>\n",
       "      <td>B</td>\n",
       "      <td>D</td>\n",
       "      <td>6</td>\n",
       "      <td>5</td>\n",
       "      <td>0.506252</td>\n",
       "    </tr>\n",
       "    <tr>\n",
       "      <td>2</td>\n",
       "      <td>D</td>\n",
       "      <td>D</td>\n",
       "      <td>4</td>\n",
       "      <td>3</td>\n",
       "      <td>0.356251</td>\n",
       "    </tr>\n",
       "    <tr>\n",
       "      <td>3</td>\n",
       "      <td>B</td>\n",
       "      <td>A</td>\n",
       "      <td>3</td>\n",
       "      <td>2</td>\n",
       "      <td>5.500033</td>\n",
       "    </tr>\n",
       "    <tr>\n",
       "      <td>4</td>\n",
       "      <td>D</td>\n",
       "      <td>B</td>\n",
       "      <td>6</td>\n",
       "      <td>5</td>\n",
       "      <td>0.356251</td>\n",
       "    </tr>\n",
       "  </tbody>\n",
       "</table>\n",
       "</div>"
      ],
      "text/plain": [
       "  motor screw  pgain  vgain  rise_time\n",
       "0     E     E      5      4   0.281251\n",
       "1     B     D      6      5   0.506252\n",
       "2     D     D      4      3   0.356251\n",
       "3     B     A      3      2   5.500033\n",
       "4     D     B      6      5   0.356251"
      ]
     },
     "execution_count": 3,
     "metadata": {},
     "output_type": "execute_result"
    }
   ],
   "source": [
    "df.head()"
   ]
  },
  {
   "cell_type": "code",
   "execution_count": 4,
   "metadata": {},
   "outputs": [
    {
     "name": "stdout",
     "output_type": "stream",
     "text": [
      "<class 'pandas.core.frame.DataFrame'>\n",
      "RangeIndex: 167 entries, 0 to 166\n",
      "Data columns (total 5 columns):\n",
      "motor        167 non-null object\n",
      "screw        167 non-null object\n",
      "pgain        167 non-null int64\n",
      "vgain        167 non-null int64\n",
      "rise_time    167 non-null float64\n",
      "dtypes: float64(1), int64(2), object(2)\n",
      "memory usage: 6.6+ KB\n"
     ]
    }
   ],
   "source": [
    "df.info()"
   ]
  },
  {
   "cell_type": "markdown",
   "metadata": {},
   "source": [
    "#### EDA"
   ]
  },
  {
   "cell_type": "code",
   "execution_count": 5,
   "metadata": {},
   "outputs": [
    {
     "data": {
      "text/plain": [
       "<matplotlib.axes._subplots.AxesSubplot at 0x2173ba65be0>"
      ]
     },
     "execution_count": 5,
     "metadata": {},
     "output_type": "execute_result"
    },
    {
     "data": {
      "image/png": "[encoded data removed]",
      "text/plain": [
       "<Figure size 432x288 with 1 Axes>"
      ]
     },
     "metadata": {
      "needs_background": "light"
     },
     "output_type": "display_data"
    }
   ],
   "source": [
    "sns.countplot(df.motor, data = df)"
   ]
  },
  {
   "cell_type": "code",
   "execution_count": 6,
   "metadata": {},
   "outputs": [
    {
     "data": {
      "text/plain": [
       "<matplotlib.axes._subplots.AxesSubplot at 0x2173ba65b00>"
      ]
     },
     "execution_count": 6,
     "metadata": {},
     "output_type": "execute_result"
    },
    {
     "data": {
      "image/png": "[encoded data removed]",
      "text/plain": [
       "<Figure size 432x288 with 1 Axes>"
      ]
     },
     "metadata": {
      "needs_background": "light"
     },
     "output_type": "display_data"
    }
   ],
   "source": [
    "sns.countplot(df.screw, data = df)"
   ]
  },
  {
   "cell_type": "code",
   "execution_count": 7,
   "metadata": {},
   "outputs": [
    {
     "data": {
      "text/html": [
       "<div>\n",
       "<style scoped>\n",
       "    .dataframe tbody tr th:only-of-type {\n",
       "        vertical-align: middle;\n",
       "    }\n",
       "\n",
       "    .dataframe tbody tr th {\n",
       "        vertical-align: top;\n",
       "    }\n",
       "\n",
       "    .dataframe thead th {\n",
       "        text-align: right;\n",
       "    }\n",
       "</style>\n",
       "<table border=\"1\" class=\"dataframe\">\n",
       "  <thead>\n",
       "    <tr style=\"text-align: right;\">\n",
       "      <th></th>\n",
       "      <th>motor</th>\n",
       "      <th>A</th>\n",
       "      <th>B</th>\n",
       "      <th>C</th>\n",
       "      <th>D</th>\n",
       "      <th>E</th>\n",
       "    </tr>\n",
       "  </thead>\n",
       "  <tbody>\n",
       "    <tr>\n",
       "      <td rowspan=\"8\" valign=\"top\">pgain</td>\n",
       "      <td>count</td>\n",
       "      <td>36.000000</td>\n",
       "      <td>36.000000</td>\n",
       "      <td>40.000000</td>\n",
       "      <td>22.000000</td>\n",
       "      <td>33.000000</td>\n",
       "    </tr>\n",
       "    <tr>\n",
       "      <td>mean</td>\n",
       "      <td>4.166667</td>\n",
       "      <td>4.166667</td>\n",
       "      <td>4.325000</td>\n",
       "      <td>3.818182</td>\n",
       "      <td>4.151515</td>\n",
       "    </tr>\n",
       "    <tr>\n",
       "      <td>std</td>\n",
       "      <td>1.000000</td>\n",
       "      <td>1.000000</td>\n",
       "      <td>1.071484</td>\n",
       "      <td>0.957992</td>\n",
       "      <td>1.034445</td>\n",
       "    </tr>\n",
       "    <tr>\n",
       "      <td>min</td>\n",
       "      <td>3.000000</td>\n",
       "      <td>3.000000</td>\n",
       "      <td>3.000000</td>\n",
       "      <td>3.000000</td>\n",
       "      <td>3.000000</td>\n",
       "    </tr>\n",
       "    <tr>\n",
       "      <td>25%</td>\n",
       "      <td>3.000000</td>\n",
       "      <td>3.000000</td>\n",
       "      <td>3.750000</td>\n",
       "      <td>3.000000</td>\n",
       "      <td>3.000000</td>\n",
       "    </tr>\n",
       "    <tr>\n",
       "      <td>50%</td>\n",
       "      <td>4.000000</td>\n",
       "      <td>4.000000</td>\n",
       "      <td>4.000000</td>\n",
       "      <td>4.000000</td>\n",
       "      <td>4.000000</td>\n",
       "    </tr>\n",
       "    <tr>\n",
       "      <td>75%</td>\n",
       "      <td>5.000000</td>\n",
       "      <td>5.000000</td>\n",
       "      <td>5.000000</td>\n",
       "      <td>4.000000</td>\n",
       "      <td>5.000000</td>\n",
       "    </tr>\n",
       "    <tr>\n",
       "      <td>max</td>\n",
       "      <td>6.000000</td>\n",
       "      <td>6.000000</td>\n",
       "      <td>6.000000</td>\n",
       "      <td>6.000000</td>\n",
       "      <td>6.000000</td>\n",
       "    </tr>\n",
       "    <tr>\n",
       "      <td rowspan=\"8\" valign=\"top\">vgain</td>\n",
       "      <td>count</td>\n",
       "      <td>36.000000</td>\n",
       "      <td>36.000000</td>\n",
       "      <td>40.000000</td>\n",
       "      <td>22.000000</td>\n",
       "      <td>33.000000</td>\n",
       "    </tr>\n",
       "    <tr>\n",
       "      <td>mean</td>\n",
       "      <td>2.583333</td>\n",
       "      <td>2.583333</td>\n",
       "      <td>2.475000</td>\n",
       "      <td>2.318182</td>\n",
       "      <td>2.666667</td>\n",
       "    </tr>\n",
       "    <tr>\n",
       "      <td>std</td>\n",
       "      <td>1.401530</td>\n",
       "      <td>1.401530</td>\n",
       "      <td>1.377242</td>\n",
       "      <td>1.286796</td>\n",
       "      <td>1.406829</td>\n",
       "    </tr>\n",
       "    <tr>\n",
       "      <td>min</td>\n",
       "      <td>1.000000</td>\n",
       "      <td>1.000000</td>\n",
       "      <td>1.000000</td>\n",
       "      <td>1.000000</td>\n",
       "      <td>1.000000</td>\n",
       "    </tr>\n",
       "    <tr>\n",
       "      <td>25%</td>\n",
       "      <td>1.000000</td>\n",
       "      <td>1.000000</td>\n",
       "      <td>1.000000</td>\n",
       "      <td>1.000000</td>\n",
       "      <td>2.000000</td>\n",
       "    </tr>\n",
       "    <tr>\n",
       "      <td>50%</td>\n",
       "      <td>2.000000</td>\n",
       "      <td>2.000000</td>\n",
       "      <td>2.000000</td>\n",
       "      <td>2.000000</td>\n",
       "      <td>2.000000</td>\n",
       "    </tr>\n",
       "    <tr>\n",
       "      <td>75%</td>\n",
       "      <td>4.000000</td>\n",
       "      <td>4.000000</td>\n",
       "      <td>3.250000</td>\n",
       "      <td>3.000000</td>\n",
       "      <td>4.000000</td>\n",
       "    </tr>\n",
       "    <tr>\n",
       "      <td>max</td>\n",
       "      <td>5.000000</td>\n",
       "      <td>5.000000</td>\n",
       "      <td>5.000000</td>\n",
       "      <td>5.000000</td>\n",
       "      <td>5.000000</td>\n",
       "    </tr>\n",
       "    <tr>\n",
       "      <td rowspan=\"8\" valign=\"top\">rise_time</td>\n",
       "      <td>count</td>\n",
       "      <td>36.000000</td>\n",
       "      <td>36.000000</td>\n",
       "      <td>40.000000</td>\n",
       "      <td>22.000000</td>\n",
       "      <td>33.000000</td>\n",
       "    </tr>\n",
       "    <tr>\n",
       "      <td>mean</td>\n",
       "      <td>1.761111</td>\n",
       "      <td>1.681942</td>\n",
       "      <td>1.254061</td>\n",
       "      <td>0.917613</td>\n",
       "      <td>1.144893</td>\n",
       "    </tr>\n",
       "    <tr>\n",
       "      <td>std</td>\n",
       "      <td>1.822645</td>\n",
       "      <td>1.760003</td>\n",
       "      <td>1.387926</td>\n",
       "      <td>0.675960</td>\n",
       "      <td>1.568450</td>\n",
       "    </tr>\n",
       "    <tr>\n",
       "      <td>min</td>\n",
       "      <td>0.243751</td>\n",
       "      <td>0.206250</td>\n",
       "      <td>0.206250</td>\n",
       "      <td>0.281251</td>\n",
       "      <td>0.131250</td>\n",
       "    </tr>\n",
       "    <tr>\n",
       "      <td>25%</td>\n",
       "      <td>0.506252</td>\n",
       "      <td>0.496877</td>\n",
       "      <td>0.506252</td>\n",
       "      <td>0.431252</td>\n",
       "      <td>0.431252</td>\n",
       "    </tr>\n",
       "    <tr>\n",
       "      <td>50%</td>\n",
       "      <td>0.806255</td>\n",
       "      <td>0.806255</td>\n",
       "      <td>0.543753</td>\n",
       "      <td>0.696877</td>\n",
       "      <td>0.806255</td>\n",
       "    </tr>\n",
       "    <tr>\n",
       "      <td>75%</td>\n",
       "      <td>3.899964</td>\n",
       "      <td>3.749966</td>\n",
       "      <td>1.126563</td>\n",
       "      <td>1.232811</td>\n",
       "      <td>1.100000</td>\n",
       "    </tr>\n",
       "    <tr>\n",
       "      <td>max</td>\n",
       "      <td>5.700042</td>\n",
       "      <td>5.500033</td>\n",
       "      <td>5.100014</td>\n",
       "      <td>2.699979</td>\n",
       "      <td>7.100108</td>\n",
       "    </tr>\n",
       "  </tbody>\n",
       "</table>\n",
       "</div>"
      ],
      "text/plain": [
       "motor                    A          B          C          D          E\n",
       "pgain     count  36.000000  36.000000  40.000000  22.000000  33.000000\n",
       "          mean    4.166667   4.166667   4.325000   3.818182   4.151515\n",
       "          std     1.000000   1.000000   1.071484   0.957992   1.034445\n",
       "          min     3.000000   3.000000   3.000000   3.000000   3.000000\n",
       "          25%     3.000000   3.000000   3.750000   3.000000   3.000000\n",
       "          50%     4.000000   4.000000   4.000000   4.000000   4.000000\n",
       "          75%     5.000000   5.000000   5.000000   4.000000   5.000000\n",
       "          max     6.000000   6.000000   6.000000   6.000000   6.000000\n",
       "vgain     count  36.000000  36.000000  40.000000  22.000000  33.000000\n",
       "          mean    2.583333   2.583333   2.475000   2.318182   2.666667\n",
       "          std     1.401530   1.401530   1.377242   1.286796   1.406829\n",
       "          min     1.000000   1.000000   1.000000   1.000000   1.000000\n",
       "          25%     1.000000   1.000000   1.000000   1.000000   2.000000\n",
       "          50%     2.000000   2.000000   2.000000   2.000000   2.000000\n",
       "          75%     4.000000   4.000000   3.250000   3.000000   4.000000\n",
       "          max     5.000000   5.000000   5.000000   5.000000   5.000000\n",
       "rise_time count  36.000000  36.000000  40.000000  22.000000  33.000000\n",
       "          mean    1.761111   1.681942   1.254061   0.917613   1.144893\n",
       "          std     1.822645   1.760003   1.387926   0.675960   1.568450\n",
       "          min     0.243751   0.206250   0.206250   0.281251   0.131250\n",
       "          25%     0.506252   0.496877   0.506252   0.431252   0.431252\n",
       "          50%     0.806255   0.806255   0.543753   0.696877   0.806255\n",
       "          75%     3.899964   3.749966   1.126563   1.232811   1.100000\n",
       "          max     5.700042   5.500033   5.100014   2.699979   7.100108"
      ]
     },
     "execution_count": 7,
     "metadata": {},
     "output_type": "execute_result"
    }
   ],
   "source": [
    "df.groupby('motor').describe().T"
   ]
  },
  {
   "cell_type": "code",
   "execution_count": 8,
   "metadata": {},
   "outputs": [
    {
     "data": {
      "text/html": [
       "<div>\n",
       "<style scoped>\n",
       "    .dataframe tbody tr th:only-of-type {\n",
       "        vertical-align: middle;\n",
       "    }\n",
       "\n",
       "    .dataframe tbody tr th {\n",
       "        vertical-align: top;\n",
       "    }\n",
       "\n",
       "    .dataframe thead th {\n",
       "        text-align: right;\n",
       "    }\n",
       "</style>\n",
       "<table border=\"1\" class=\"dataframe\">\n",
       "  <thead>\n",
       "    <tr style=\"text-align: right;\">\n",
       "      <th></th>\n",
       "      <th>screw</th>\n",
       "      <th>A</th>\n",
       "      <th>B</th>\n",
       "      <th>C</th>\n",
       "      <th>D</th>\n",
       "      <th>E</th>\n",
       "    </tr>\n",
       "  </thead>\n",
       "  <tbody>\n",
       "    <tr>\n",
       "      <td rowspan=\"8\" valign=\"top\">pgain</td>\n",
       "      <td>count</td>\n",
       "      <td>42.000000</td>\n",
       "      <td>35.000000</td>\n",
       "      <td>31.000000</td>\n",
       "      <td>30.000000</td>\n",
       "      <td>29.000000</td>\n",
       "    </tr>\n",
       "    <tr>\n",
       "      <td>mean</td>\n",
       "      <td>4.357143</td>\n",
       "      <td>4.142857</td>\n",
       "      <td>4.064516</td>\n",
       "      <td>4.066667</td>\n",
       "      <td>4.068966</td>\n",
       "    </tr>\n",
       "    <tr>\n",
       "      <td>std</td>\n",
       "      <td>1.055102</td>\n",
       "      <td>1.004193</td>\n",
       "      <td>0.997847</td>\n",
       "      <td>1.014833</td>\n",
       "      <td>1.032716</td>\n",
       "    </tr>\n",
       "    <tr>\n",
       "      <td>min</td>\n",
       "      <td>3.000000</td>\n",
       "      <td>3.000000</td>\n",
       "      <td>3.000000</td>\n",
       "      <td>3.000000</td>\n",
       "      <td>3.000000</td>\n",
       "    </tr>\n",
       "    <tr>\n",
       "      <td>25%</td>\n",
       "      <td>4.000000</td>\n",
       "      <td>3.000000</td>\n",
       "      <td>3.000000</td>\n",
       "      <td>3.000000</td>\n",
       "      <td>3.000000</td>\n",
       "    </tr>\n",
       "    <tr>\n",
       "      <td>50%</td>\n",
       "      <td>4.000000</td>\n",
       "      <td>4.000000</td>\n",
       "      <td>4.000000</td>\n",
       "      <td>4.000000</td>\n",
       "      <td>4.000000</td>\n",
       "    </tr>\n",
       "    <tr>\n",
       "      <td>75%</td>\n",
       "      <td>5.000000</td>\n",
       "      <td>5.000000</td>\n",
       "      <td>4.500000</td>\n",
       "      <td>4.750000</td>\n",
       "      <td>5.000000</td>\n",
       "    </tr>\n",
       "    <tr>\n",
       "      <td>max</td>\n",
       "      <td>6.000000</td>\n",
       "      <td>6.000000</td>\n",
       "      <td>6.000000</td>\n",
       "      <td>6.000000</td>\n",
       "      <td>6.000000</td>\n",
       "    </tr>\n",
       "    <tr>\n",
       "      <td rowspan=\"8\" valign=\"top\">vgain</td>\n",
       "      <td>count</td>\n",
       "      <td>42.000000</td>\n",
       "      <td>35.000000</td>\n",
       "      <td>31.000000</td>\n",
       "      <td>30.000000</td>\n",
       "      <td>29.000000</td>\n",
       "    </tr>\n",
       "    <tr>\n",
       "      <td>mean</td>\n",
       "      <td>2.500000</td>\n",
       "      <td>2.571429</td>\n",
       "      <td>2.516129</td>\n",
       "      <td>2.566667</td>\n",
       "      <td>2.551724</td>\n",
       "    </tr>\n",
       "    <tr>\n",
       "      <td>std</td>\n",
       "      <td>1.347989</td>\n",
       "      <td>1.420143</td>\n",
       "      <td>1.387347</td>\n",
       "      <td>1.381736</td>\n",
       "      <td>1.403725</td>\n",
       "    </tr>\n",
       "    <tr>\n",
       "      <td>min</td>\n",
       "      <td>1.000000</td>\n",
       "      <td>1.000000</td>\n",
       "      <td>1.000000</td>\n",
       "      <td>1.000000</td>\n",
       "      <td>1.000000</td>\n",
       "    </tr>\n",
       "    <tr>\n",
       "      <td>25%</td>\n",
       "      <td>1.000000</td>\n",
       "      <td>1.000000</td>\n",
       "      <td>1.000000</td>\n",
       "      <td>1.250000</td>\n",
       "      <td>1.000000</td>\n",
       "    </tr>\n",
       "    <tr>\n",
       "      <td>50%</td>\n",
       "      <td>2.000000</td>\n",
       "      <td>2.000000</td>\n",
       "      <td>2.000000</td>\n",
       "      <td>2.000000</td>\n",
       "      <td>2.000000</td>\n",
       "    </tr>\n",
       "    <tr>\n",
       "      <td>75%</td>\n",
       "      <td>3.000000</td>\n",
       "      <td>4.000000</td>\n",
       "      <td>3.500000</td>\n",
       "      <td>3.750000</td>\n",
       "      <td>4.000000</td>\n",
       "    </tr>\n",
       "    <tr>\n",
       "      <td>max</td>\n",
       "      <td>5.000000</td>\n",
       "      <td>5.000000</td>\n",
       "      <td>5.000000</td>\n",
       "      <td>5.000000</td>\n",
       "      <td>5.000000</td>\n",
       "    </tr>\n",
       "    <tr>\n",
       "      <td rowspan=\"8\" valign=\"top\">rise_time</td>\n",
       "      <td>count</td>\n",
       "      <td>42.000000</td>\n",
       "      <td>35.000000</td>\n",
       "      <td>31.000000</td>\n",
       "      <td>30.000000</td>\n",
       "      <td>29.000000</td>\n",
       "    </tr>\n",
       "    <tr>\n",
       "      <td>mean</td>\n",
       "      <td>1.768461</td>\n",
       "      <td>1.391963</td>\n",
       "      <td>1.248586</td>\n",
       "      <td>1.161247</td>\n",
       "      <td>1.225643</td>\n",
       "    </tr>\n",
       "    <tr>\n",
       "      <td>std</td>\n",
       "      <td>1.982259</td>\n",
       "      <td>1.440169</td>\n",
       "      <td>1.402858</td>\n",
       "      <td>1.289518</td>\n",
       "      <td>1.413128</td>\n",
       "    </tr>\n",
       "    <tr>\n",
       "      <td>min</td>\n",
       "      <td>0.281251</td>\n",
       "      <td>0.356251</td>\n",
       "      <td>0.131250</td>\n",
       "      <td>0.206250</td>\n",
       "      <td>0.206250</td>\n",
       "    </tr>\n",
       "    <tr>\n",
       "      <td>25%</td>\n",
       "      <td>0.665629</td>\n",
       "      <td>0.543753</td>\n",
       "      <td>0.431252</td>\n",
       "      <td>0.403127</td>\n",
       "      <td>0.468752</td>\n",
       "    </tr>\n",
       "    <tr>\n",
       "      <td>50%</td>\n",
       "      <td>0.806255</td>\n",
       "      <td>0.693754</td>\n",
       "      <td>0.543753</td>\n",
       "      <td>0.506252</td>\n",
       "      <td>0.506252</td>\n",
       "    </tr>\n",
       "    <tr>\n",
       "      <td>75%</td>\n",
       "      <td>1.190617</td>\n",
       "      <td>1.399996</td>\n",
       "      <td>1.199999</td>\n",
       "      <td>1.251560</td>\n",
       "      <td>1.106248</td>\n",
       "    </tr>\n",
       "    <tr>\n",
       "      <td>max</td>\n",
       "      <td>7.100108</td>\n",
       "      <td>4.699995</td>\n",
       "      <td>4.699995</td>\n",
       "      <td>4.699995</td>\n",
       "      <td>4.699995</td>\n",
       "    </tr>\n",
       "  </tbody>\n",
       "</table>\n",
       "</div>"
      ],
      "text/plain": [
       "screw                    A          B          C          D          E\n",
       "pgain     count  42.000000  35.000000  31.000000  30.000000  29.000000\n",
       "          mean    4.357143   4.142857   4.064516   4.066667   4.068966\n",
       "          std     1.055102   1.004193   0.997847   1.014833   1.032716\n",
       "          min     3.000000   3.000000   3.000000   3.000000   3.000000\n",
       "          25%     4.000000   3.000000   3.000000   3.000000   3.000000\n",
       "          50%     4.000000   4.000000   4.000000   4.000000   4.000000\n",
       "          75%     5.000000   5.000000   4.500000   4.750000   5.000000\n",
       "          max     6.000000   6.000000   6.000000   6.000000   6.000000\n",
       "vgain     count  42.000000  35.000000  31.000000  30.000000  29.000000\n",
       "          mean    2.500000   2.571429   2.516129   2.566667   2.551724\n",
       "          std     1.347989   1.420143   1.387347   1.381736   1.403725\n",
       "          min     1.000000   1.000000   1.000000   1.000000   1.000000\n",
       "          25%     1.000000   1.000000   1.000000   1.250000   1.000000\n",
       "          50%     2.000000   2.000000   2.000000   2.000000   2.000000\n",
       "          75%     3.000000   4.000000   3.500000   3.750000   4.000000\n",
       "          max     5.000000   5.000000   5.000000   5.000000   5.000000\n",
       "rise_time count  42.000000  35.000000  31.000000  30.000000  29.000000\n",
       "          mean    1.768461   1.391963   1.248586   1.161247   1.225643\n",
       "          std     1.982259   1.440169   1.402858   1.289518   1.413128\n",
       "          min     0.281251   0.356251   0.131250   0.206250   0.206250\n",
       "          25%     0.665629   0.543753   0.431252   0.403127   0.468752\n",
       "          50%     0.806255   0.693754   0.543753   0.506252   0.506252\n",
       "          75%     1.190617   1.399996   1.199999   1.251560   1.106248\n",
       "          max     7.100108   4.699995   4.699995   4.699995   4.699995"
      ]
     },
     "execution_count": 8,
     "metadata": {},
     "output_type": "execute_result"
    }
   ],
   "source": [
    "df.groupby('screw').describe().T"
   ]
  },
  {
   "cell_type": "code",
   "execution_count": 9,
   "metadata": {},
   "outputs": [
    {
     "data": {
      "text/html": [
       "<div>\n",
       "<style scoped>\n",
       "    .dataframe tbody tr th:only-of-type {\n",
       "        vertical-align: middle;\n",
       "    }\n",
       "\n",
       "    .dataframe tbody tr th {\n",
       "        vertical-align: top;\n",
       "    }\n",
       "\n",
       "    .dataframe thead th {\n",
       "        text-align: right;\n",
       "    }\n",
       "</style>\n",
       "<table border=\"1\" class=\"dataframe\">\n",
       "  <thead>\n",
       "    <tr style=\"text-align: right;\">\n",
       "      <th></th>\n",
       "      <th>pgain</th>\n",
       "      <th>vgain</th>\n",
       "      <th>rise_time</th>\n",
       "    </tr>\n",
       "    <tr>\n",
       "      <th>motor</th>\n",
       "      <th></th>\n",
       "      <th></th>\n",
       "      <th></th>\n",
       "    </tr>\n",
       "  </thead>\n",
       "  <tbody>\n",
       "    <tr>\n",
       "      <td>A</td>\n",
       "      <td>4.166667</td>\n",
       "      <td>2.583333</td>\n",
       "      <td>1.761111</td>\n",
       "    </tr>\n",
       "    <tr>\n",
       "      <td>B</td>\n",
       "      <td>4.166667</td>\n",
       "      <td>2.583333</td>\n",
       "      <td>1.681942</td>\n",
       "    </tr>\n",
       "    <tr>\n",
       "      <td>C</td>\n",
       "      <td>4.325000</td>\n",
       "      <td>2.475000</td>\n",
       "      <td>1.254061</td>\n",
       "    </tr>\n",
       "    <tr>\n",
       "      <td>D</td>\n",
       "      <td>3.818182</td>\n",
       "      <td>2.318182</td>\n",
       "      <td>0.917613</td>\n",
       "    </tr>\n",
       "    <tr>\n",
       "      <td>E</td>\n",
       "      <td>4.151515</td>\n",
       "      <td>2.666667</td>\n",
       "      <td>1.144893</td>\n",
       "    </tr>\n",
       "  </tbody>\n",
       "</table>\n",
       "</div>"
      ],
      "text/plain": [
       "          pgain     vgain  rise_time\n",
       "motor                               \n",
       "A      4.166667  2.583333   1.761111\n",
       "B      4.166667  2.583333   1.681942\n",
       "C      4.325000  2.475000   1.254061\n",
       "D      3.818182  2.318182   0.917613\n",
       "E      4.151515  2.666667   1.144893"
      ]
     },
     "execution_count": 9,
     "metadata": {},
     "output_type": "execute_result"
    }
   ],
   "source": [
    "df.groupby('motor').mean()"
   ]
  },
  {
   "cell_type": "code",
   "execution_count": 10,
   "metadata": {},
   "outputs": [
    {
     "data": {
      "text/html": [
       "<div>\n",
       "<style scoped>\n",
       "    .dataframe tbody tr th:only-of-type {\n",
       "        vertical-align: middle;\n",
       "    }\n",
       "\n",
       "    .dataframe tbody tr th {\n",
       "        vertical-align: top;\n",
       "    }\n",
       "\n",
       "    .dataframe thead th {\n",
       "        text-align: right;\n",
       "    }\n",
       "</style>\n",
       "<table border=\"1\" class=\"dataframe\">\n",
       "  <thead>\n",
       "    <tr style=\"text-align: right;\">\n",
       "      <th></th>\n",
       "      <th>pgain</th>\n",
       "      <th>vgain</th>\n",
       "      <th>rise_time</th>\n",
       "    </tr>\n",
       "    <tr>\n",
       "      <th>screw</th>\n",
       "      <th></th>\n",
       "      <th></th>\n",
       "      <th></th>\n",
       "    </tr>\n",
       "  </thead>\n",
       "  <tbody>\n",
       "    <tr>\n",
       "      <td>A</td>\n",
       "      <td>4.357143</td>\n",
       "      <td>2.500000</td>\n",
       "      <td>1.768461</td>\n",
       "    </tr>\n",
       "    <tr>\n",
       "      <td>B</td>\n",
       "      <td>4.142857</td>\n",
       "      <td>2.571429</td>\n",
       "      <td>1.391963</td>\n",
       "    </tr>\n",
       "    <tr>\n",
       "      <td>C</td>\n",
       "      <td>4.064516</td>\n",
       "      <td>2.516129</td>\n",
       "      <td>1.248586</td>\n",
       "    </tr>\n",
       "    <tr>\n",
       "      <td>D</td>\n",
       "      <td>4.066667</td>\n",
       "      <td>2.566667</td>\n",
       "      <td>1.161247</td>\n",
       "    </tr>\n",
       "    <tr>\n",
       "      <td>E</td>\n",
       "      <td>4.068966</td>\n",
       "      <td>2.551724</td>\n",
       "      <td>1.225643</td>\n",
       "    </tr>\n",
       "  </tbody>\n",
       "</table>\n",
       "</div>"
      ],
      "text/plain": [
       "          pgain     vgain  rise_time\n",
       "screw                               \n",
       "A      4.357143  2.500000   1.768461\n",
       "B      4.142857  2.571429   1.391963\n",
       "C      4.064516  2.516129   1.248586\n",
       "D      4.066667  2.566667   1.161247\n",
       "E      4.068966  2.551724   1.225643"
      ]
     },
     "execution_count": 10,
     "metadata": {},
     "output_type": "execute_result"
    }
   ],
   "source": [
    "df.groupby('screw').mean()"
   ]
  },
  {
   "cell_type": "code",
   "execution_count": 11,
   "metadata": {},
   "outputs": [
    {
     "data": {
      "image/png": "[encoded data removed]",
      "text/plain": [
       "<Figure size 432x288 with 1 Axes>"
      ]
     },
     "metadata": {
      "needs_background": "light"
     },
     "output_type": "display_data"
    }
   ],
   "source": [
    "sns.distplot(df.rise_time)\n",
    "plt.title('Rise time')\n",
    "plt.show()"
   ]
  },
  {
   "cell_type": "code",
   "execution_count": 12,
   "metadata": {},
   "outputs": [
    {
     "data": {
      "text/plain": [
       "Index(['motor', 'screw', 'pgain', 'vgain', 'rise_time'], dtype='object')"
      ]
     },
     "execution_count": 12,
     "metadata": {},
     "output_type": "execute_result"
    }
   ],
   "source": [
    "df.columns"
   ]
  },
  {
   "cell_type": "markdown",
   "metadata": {},
   "source": [
    "#### Data Preprocessing\n",
    "\n",
    "Encoding the categorical variables."
   ]
  },
  {
   "cell_type": "code",
   "execution_count": 13,
   "metadata": {},
   "outputs": [],
   "source": [
    "le = LabelEncoder()\n",
    "\n",
    "df['motor'] = le.fit_transform(df.motor)\n",
    "df['screw'] = le.fit_transform(df.screw)"
   ]
  },
  {
   "cell_type": "markdown",
   "metadata": {},
   "source": [
    "Selecting input features and target variable."
   ]
  },
  {
   "cell_type": "code",
   "execution_count": 14,
   "metadata": {},
   "outputs": [],
   "source": [
    "X = df.drop('rise_time', axis = 1)\n",
    "y = df[['rise_time']]"
   ]
  },
  {
   "cell_type": "markdown",
   "metadata": {},
   "source": [
    "Splitting the dataset into train and test sets."
   ]
  },
  {
   "cell_type": "code",
   "execution_count": 15,
   "metadata": {},
   "outputs": [],
   "source": [
    "X_train, X_test, y_train, y_test = train_test_split(X, y, test_size=0.3, random_state = seed)"
   ]
  },
  {
   "cell_type": "markdown",
   "metadata": {},
   "source": [
    "Defining various models to perform cross validation to determine which model performs better."
   ]
  },
  {
   "cell_type": "code",
   "execution_count": 16,
   "metadata": {},
   "outputs": [],
   "source": [
    "models = []\n",
    "\n",
    "models.append(('LR', LinearRegression()))\n",
    "models.append(('LassoR', Lasso()))\n",
    "models.append(('RidgeR', Ridge()))\n",
    "models.append(('DTR', DecisionTreeRegressor()))\n",
    "models.append(('RFR', RandomForestRegressor()))\n"
   ]
  },
  {
   "cell_type": "code",
   "execution_count": 17,
   "metadata": {},
   "outputs": [
    {
     "name": "stdout",
     "output_type": "stream",
     "text": [
      "LR: ,MSE :-1.521286 ,R2 :0.349705\n",
      "LassoR: ,MSE :-2.729053 ,R2 :-0.059700\n",
      "RidgeR: ,MSE :-1.518145 ,R2 :0.353480\n",
      "DTR: ,MSE :-0.301413 ,R2 :0.866363\n",
      "RFR: ,MSE :-0.319223 ,R2 :0.871457\n"
     ]
    }
   ],
   "source": [
    "results = []\n",
    "names = []\n",
    "scoring = ['neg_mean_squared_error', 'r2']\n",
    "for name, model in models:\n",
    "    kfold = KFold(n_splits=5, random_state=seed)\n",
    "    cv_results = cross_validate(model, X_train, y_train, cv=kfold, scoring=scoring)\n",
    "    results.append(cv_results)\n",
    "    names.append(name)\n",
    "    msg = \"%s: ,MSE :%f ,R2 :%f\" % (name, cv_results['test_neg_mean_squared_error'].mean(), cv_results['test_r2'].mean())\n",
    "    print(msg)"
   ]
  },
  {
   "cell_type": "markdown",
   "metadata": {},
   "source": [
    "Decision Tree Regressor and Random Forest Regressor have low MSE and high R2 Score. So, they are selected and tuned for improving the performance."
   ]
  },
  {
   "cell_type": "markdown",
   "metadata": {},
   "source": [
    "#### Decision Tree Regressor"
   ]
  },
  {
   "cell_type": "code",
   "execution_count": 18,
   "metadata": {},
   "outputs": [
    {
     "name": "stdout",
     "output_type": "stream",
     "text": [
      "Mean Absolute Error - 0.12771015043604111\n",
      "Mean Squared Error - 0.03725337956769946\n",
      "R2 Score -  0.976097858891528\n"
     ]
    }
   ],
   "source": [
    "dtc = DecisionTreeRegressor(max_depth=5, min_samples_leaf=2, random_state=seed)\n",
    "\n",
    "dtc.fit(X_train, y_train)\n",
    "\n",
    "y_pred_on_train = dtc.predict(X_train)\n",
    "y_pred = dtc.predict(X_test)\n",
    "\n",
    "print('Mean Absolute Error -', mean_absolute_error(y_test, y_pred))\n",
    "print('Mean Squared Error -', mean_squared_error(y_test, y_pred))\n",
    "print('R2 Score - ', r2_score(y_test, y_pred))"
   ]
  },
  {
   "cell_type": "code",
   "execution_count": 19,
   "metadata": {},
   "outputs": [
    {
     "data": {
      "image/png": "[encoded data removed]",
      "text/plain": [
       "<Figure size 432x288 with 1 Axes>"
      ]
     },
     "metadata": {
      "needs_background": "light"
     },
     "output_type": "display_data"
    }
   ],
   "source": [
    "plt.scatter(y_train, y_pred_on_train, label = 'Training Data')\n",
    "plt.scatter(y_test, y_pred, label = 'Testing Data')\n",
    "plt.xlabel('True')\n",
    "plt.ylabel('Predicted')\n",
    "plt.plot([y.min(), y.max()], [y.min(), y.max()], 'k--', lw=2)\n",
    "plt.title('Decision Tree Regressor \\n Predicted vs Actual')\n",
    "plt.show()"
   ]
  },
  {
   "cell_type": "markdown",
   "metadata": {},
   "source": [
    "#### Random Forest Regressor"
   ]
  },
  {
   "cell_type": "code",
   "execution_count": 20,
   "metadata": {},
   "outputs": [
    {
     "name": "stdout",
     "output_type": "stream",
     "text": [
      "Mean Absolute Error - 0.14211612258106932\n",
      "Mean Squared Error - 0.05988929177784223\n",
      "R2 Score -  0.9615744311100943\n"
     ]
    }
   ],
   "source": [
    "rfr = RandomForestRegressor(n_estimators=300, max_depth=5, random_state=seed)\n",
    "\n",
    "rfr.fit(X_train, y_train)\n",
    "\n",
    "y_pred_on_train = dtc.predict(X_train)\n",
    "y_pred = rfr.predict(X_test)\n",
    "\n",
    "print('Mean Absolute Error -', mean_absolute_error(y_test, y_pred))\n",
    "print('Mean Squared Error -', mean_squared_error(y_test, y_pred))\n",
    "print('R2 Score - ', r2_score(y_test, y_pred))"
   ]
  },
  {
   "cell_type": "code",
   "execution_count": 21,
   "metadata": {},
   "outputs": [
    {
     "data": {
      "image/png": "[encoded data removed]",
      "text/plain": [
       "<Figure size 432x288 with 1 Axes>"
      ]
     },
     "metadata": {
      "needs_background": "light"
     },
     "output_type": "display_data"
    }
   ],
   "source": [
    "plt.scatter(y_train, y_pred_on_train, label = 'Training Data')\n",
    "plt.scatter(y_test, y_pred, label = 'Testing Data')\n",
    "plt.xlabel('True')\n",
    "plt.ylabel('Predicted')\n",
    "plt.plot([y.min(), y.max()], [y.min(), y.max()], 'k--', lw=2)\n",
    "plt.title('Random Forest Regressor \\n Predicted vs Actual')\n",
    "plt.show()"
   ]
  },
  {
   "cell_type": "markdown",
   "metadata": {},
   "source": [
    "#### Both Decision Tree Regressor and Random Forest Classifier reach an R2 Score of 0.96. (A good R2 score should be as close as to 1.0) "
   ]
  },
  {
   "cell_type": "code",
   "execution_count": null,
   "metadata": {},
   "outputs": [],
   "source": []
  }
 ],
 "metadata": {
  "kernelspec": {
   "display_name": "Python 3",
   "language": "python",
   "name": "python3"
  },
  "language_info": {
   "codemirror_mode": {
    "name": "ipython",
    "version": 3
   },
   "file_extension": ".py",
   "mimetype": "text/x-python",
   "name": "python",
   "nbconvert_exporter": "python",
   "pygments_lexer": "ipython3",
   "version": "3.7.3"
  }
 },
 "nbformat": 4,
 "nbformat_minor": 2
}
