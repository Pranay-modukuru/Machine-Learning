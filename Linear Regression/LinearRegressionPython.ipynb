{
 "cells": [
  {
   "cell_type": "markdown",
   "metadata": {},
   "source": [
    "# Linear Regression in Python"
   ]
  },
  {
   "cell_type": "markdown",
   "metadata": {},
   "source": [
    "1. Solves the Linear Regression problem.\n",
    "2. Uses Python Class to efficiently implement Linear Regression "
   ]
  },
  {
   "cell_type": "code",
   "execution_count": 1,
   "metadata": {},
   "outputs": [],
   "source": [
    "#%% Importing Libraries\n",
    "import numpy as np\n",
    "import matplotlib.pyplot as plt\n",
    "\n",
    "#%% Setting random seed\n",
    "np.random.seed(10)"
   ]
  },
  {
   "cell_type": "code",
   "execution_count": 2,
   "metadata": {},
   "outputs": [],
   "source": [
    "#%% Build model\n",
    "\n",
    "class LinearRegression():\n",
    "    r\"\"\"\n",
    "    Linear Regression class\n",
    "    \"\"\"\n",
    "    def __init__(self, slope, intercept, lr):\n",
    "        self.slope = slope\n",
    "        self.intercept = intercept\n",
    "        self.lr = lr\n",
    "        self.train = True\n",
    "        \n",
    "    def predict(self, data):\n",
    "        r\"\"\" \n",
    "        Predicts output given input data\n",
    "        \"\"\"\n",
    "        out = np.dot(self.slope, data.T) + self.intercept\n",
    "        self.d = data\n",
    "        return out.T\n",
    "    \n",
    "    def MSEloss(self,predicted, true):\n",
    "        r\"\"\"\n",
    "        Calculates MSE loss and also calculates gradients of slope, intercept\n",
    "        \"\"\"\n",
    "        error = predicted - true\n",
    "        loss = (error**2).mean()\n",
    "        \n",
    "        if self.train == True:\n",
    "            # Gradients calculated only during training\n",
    "            self.slope_grad =  2 * (self.d * error).mean()\n",
    "            self.intercept_grad = 2 * error.mean()\n",
    "        \n",
    "        return loss\n",
    "    \n",
    "    def set_mode(self, mode):\n",
    "        if mode == 'train':\n",
    "            self.train = True\n",
    "        elif mode == 'eval':\n",
    "            self.train = False\n",
    "        \n",
    "    def update(self):\n",
    "        r\"\"\"\n",
    "        Updates parameters and makes gradients zero after update\n",
    "        \"\"\"\n",
    "        self.slope -= self.lr * self.slope_grad\n",
    "        self.intercept -= self.lr * self.intercept_grad\n",
    "        \n",
    "        self.slope_grad = 0\n",
    "        self.intercept_grad = 0\n"
   ]
  },
  {
   "cell_type": "code",
   "execution_count": 3,
   "metadata": {},
   "outputs": [],
   "source": [
    "#%% Generate Data\n",
    "# Generate Random data\n",
    "x = np.random.randn(100,1)\n",
    "\n",
    "# Generate random noise [same shape as input]\n",
    "noise = np.random.randn(100,1)\n",
    "\n",
    "# Generate true outputs\n",
    "# ( y = mx + c)\n",
    "y_true = 3 * x + 2 + 0.2 * noise "
   ]
  },
  {
   "cell_type": "code",
   "execution_count": 4,
   "metadata": {},
   "outputs": [],
   "source": [
    "#%% Training and Validation split\n",
    "\n",
    "shuffle_idx = np.random.permutation(x.size)\n",
    "\n",
    "x_train, y_train = x[shuffle_idx[:80]], y_true[shuffle_idx[:80]]\n",
    "x_valid, y_valid = x[shuffle_idx[80:]], y_true[shuffle_idx[80:]] "
   ]
  },
  {
   "cell_type": "code",
   "execution_count": 5,
   "metadata": {},
   "outputs": [],
   "source": [
    "#%% Initiate model\n",
    "slope = np.random.rand(1,1)\n",
    "intercept = np.random.rand(1,1)\n",
    "\n",
    "model = LinearRegression(slope= slope,intercept= intercept, lr= 0.01)"
   ]
  },
  {
   "cell_type": "code",
   "execution_count": 6,
   "metadata": {},
   "outputs": [
    {
     "name": "stdout",
     "output_type": "stream",
     "text": [
      "\n",
      "Before Training \n",
      "Slope :  [[0.52885388]]\n",
      "Intercept :  [[0.69630827]]\n",
      "\n",
      "\n"
     ]
    }
   ],
   "source": [
    "print('\\nBefore Training ')\n",
    "print('Slope : ', model.slope)\n",
    "print('Intercept : ', model.intercept)\n",
    "print('\\n')"
   ]
  },
  {
   "cell_type": "code",
   "execution_count": 7,
   "metadata": {},
   "outputs": [
    {
     "name": "stdout",
     "output_type": "stream",
     "text": [
      "Epoch : 0, Loss : 7.0509\n",
      "Epoch : 100, Loss : 0.2346\n",
      "Epoch : 200, Loss : 0.0445\n",
      "Epoch : 300, Loss : 0.0377\n",
      "Epoch : 400, Loss : 0.0374\n",
      "Epoch : 500, Loss : 0.0374\n",
      "Epoch : 600, Loss : 0.0374\n",
      "Epoch : 700, Loss : 0.0374\n",
      "Epoch : 800, Loss : 0.0374\n",
      "Epoch : 900, Loss : 0.0374\n"
     ]
    }
   ],
   "source": [
    "#%% Start training\n",
    "\n",
    "losses = np.array([])\n",
    "\n",
    "model.set_mode('train')\n",
    "\n",
    "for i in range(1000):\n",
    "    \n",
    "    y_pred = model.predict(x_train)\n",
    "    \n",
    "    loss = model.MSEloss(y_pred, y_train)\n",
    "    losses = np.append(losses, loss)\n",
    "        \n",
    "    model.update()\n",
    "    \n",
    "    if i % 100 == 0:\n",
    "        print('Epoch : {:d}, Loss : {:.4f}'.format(i,loss))"
   ]
  },
  {
   "cell_type": "code",
   "execution_count": 8,
   "metadata": {},
   "outputs": [
    {
     "name": "stdout",
     "output_type": "stream",
     "text": [
      "\n",
      "After Training \n",
      "Slope :  [[2.99183031]]\n",
      "Intercept :  [[2.01103361]]\n"
     ]
    }
   ],
   "source": [
    "print('\\nAfter Training ')\n",
    "print('Slope : ', model.slope)\n",
    "print('Intercept : ', model.intercept)"
   ]
  },
  {
   "cell_type": "code",
   "execution_count": 9,
   "metadata": {},
   "outputs": [
    {
     "name": "stdout",
     "output_type": "stream",
     "text": [
      "\n",
      "Loss on Validation set : 0.0458\n"
     ]
    }
   ],
   "source": [
    "#%% Test performance\n",
    "\n",
    "model.set_mode('eval')\n",
    "\n",
    "y = model.predict(x_valid)\n",
    "loss = model.MSEloss(y, y_valid)\n",
    "\n",
    "print('\\nLoss on Validation set : {:.4f}'.format(loss))"
   ]
  },
  {
   "cell_type": "code",
   "execution_count": 10,
   "metadata": {},
   "outputs": [
    {
     "data": {
      "text/plain": [
       "[<matplotlib.lines.Line2D at 0x1ffcf7e94e0>]"
      ]
     },
     "execution_count": 10,
     "metadata": {},
     "output_type": "execute_result"
    },
    {
     "data": {
      "image/png": "[encoded data removed]",
      "text/plain": [
       "<Figure size 432x288 with 1 Axes>"
      ]
     },
     "metadata": {
      "needs_background": "light"
     },
     "output_type": "display_data"
    }
   ],
   "source": [
    "# Loss\n",
    "fig = plt.figure()\n",
    "ax = fig.add_subplot(111)\n",
    "ax.plot(range(losses.size),losses)"
   ]
  },
  {
   "cell_type": "code",
   "execution_count": 11,
   "metadata": {},
   "outputs": [
    {
     "data": {
      "text/plain": [
       "[<matplotlib.lines.Line2D at 0x1ffd04042b0>]"
      ]
     },
     "execution_count": 11,
     "metadata": {},
     "output_type": "execute_result"
    },
    {
     "data": {
      "image/png": "[encoded data removed]",
      "text/plain": [
       "<Figure size 432x288 with 1 Axes>"
      ]
     },
     "metadata": {
      "needs_background": "light"
     },
     "output_type": "display_data"
    }
   ],
   "source": [
    "# Regression Line\n",
    "fig2 = plt.figure()\n",
    "ax2 = fig2.add_subplot(111)\n",
    "ax2.scatter(y_train, x_train, c = 'blue')\n",
    "ax2.scatter(y_valid, x_valid, c ='orange')\n",
    "ax2.plot(y,x_valid, c = 'red')"
   ]
  },
  {
   "cell_type": "code",
   "execution_count": null,
   "metadata": {},
   "outputs": [],
   "source": []
  }
 ],
 "metadata": {
  "kernelspec": {
   "display_name": "Python 3",
   "language": "python",
   "name": "python3"
  },
  "language_info": {
   "codemirror_mode": {
    "name": "ipython",
    "version": 3
   },
   "file_extension": ".py",
   "mimetype": "text/x-python",
   "name": "python",
   "nbconvert_exporter": "python",
   "pygments_lexer": "ipython3",
   "version": "3.7.3"
  }
 },
 "nbformat": 4,
 "nbformat_minor": 2
}
