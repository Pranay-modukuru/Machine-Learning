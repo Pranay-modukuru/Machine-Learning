{
 "cells": [
  {
   "cell_type": "markdown",
   "metadata": {},
   "source": [
    "# Linear Regression in Python"
   ]
  },
  {
   "cell_type": "markdown",
   "metadata": {},
   "source": [
    "1. Solves the Linear Regression problem.\n",
    "2. Uses Python Class to efficiently implement Linear Regression "
   ]
  },
  {
   "cell_type": "code",
   "execution_count": 4,
   "metadata": {},
   "outputs": [],
   "source": [
    "#%% Importing Libraries\n",
    "import numpy as np\n",
    "import matplotlib.pyplot as plt\n",
    "\n",
    "#%% Setting random seed\n",
    "np.random.seed(10)"
   ]
  },
  {
   "cell_type": "code",
   "execution_count": 5,
   "metadata": {},
   "outputs": [],
   "source": [
    "#%% Build model\n",
    "class LinearRegression():\n",
    "    r\"\"\"\n",
    "    Linear Regression class\n",
    "    \"\"\"\n",
    "    def __init__(self, slope, intercept, lr):\n",
    "        self.slope = slope\n",
    "        self.intercept = intercept\n",
    "        self.lr = lr\n",
    "        \n",
    "    def predict(self, data):\n",
    "        r\"\"\" \n",
    "        Predicts output given input data\n",
    "        \"\"\"\n",
    "        out = np.dot(self.slope, data.T) + self.intercept\n",
    "        self.d = data\n",
    "        return out.T\n",
    "    \n",
    "    def MSEloss(self,predicted, true):\n",
    "        r\"\"\"\n",
    "        Calculates MSE loss and also calculates gradients of slope, intercept\n",
    "        \"\"\"\n",
    "        error = predicted - true\n",
    "        loss = (error**2).mean()\n",
    "        \n",
    "        # Gradients\n",
    "        self.slope_grad =  2 * (self.d * error).mean()\n",
    "        self.intercept_grad = 2 * error.mean()\n",
    "        \n",
    "        return loss\n",
    "    \n",
    "    def update(self):\n",
    "        r\"\"\"\n",
    "        Updates parameters and makes gradients zero after update\n",
    "        \"\"\"\n",
    "        self.slope -= self.lr * self.slope_grad\n",
    "        self.intercept -= self.lr * self.intercept_grad\n",
    "        \n",
    "        self.slope_grad = 0\n",
    "        self.intercept_grad = 0"
   ]
  },
  {
   "cell_type": "code",
   "execution_count": 6,
   "metadata": {},
   "outputs": [],
   "source": [
    "#%% Generate Data\n",
    "# Generate Random data\n",
    "x = np.random.randn(100,1)\n",
    "\n",
    "# Generate random noise [same shape as input]\n",
    "noise = np.random.randn(100,1)\n",
    "\n",
    "# Generate true outputs\n",
    "# ( y = mx + c)\n",
    "y_true = 3 * x + 2 + 0.2 * noise "
   ]
  },
  {
   "cell_type": "code",
   "execution_count": 7,
   "metadata": {},
   "outputs": [],
   "source": [
    "#%% Initiate model\n",
    "model = LinearRegression(slope= 1,intercept= 0.2, lr= 0.01)"
   ]
  },
  {
   "cell_type": "code",
   "execution_count": 13,
   "metadata": {},
   "outputs": [
    {
     "name": "stdout",
     "output_type": "stream",
     "text": [
      "Before Training\n",
      "Slope :  3.0132614509372453\n",
      "Intercept :  2.012786256560173\n"
     ]
    }
   ],
   "source": [
    "print('Before Training')\n",
    "print('Slope : ', model.slope)\n",
    "print('Intercept : ', model.intercept)"
   ]
  },
  {
   "cell_type": "code",
   "execution_count": 9,
   "metadata": {},
   "outputs": [],
   "source": [
    "#%% Start training\n",
    "\n",
    "losses = np.array([])\n",
    "\n",
    "for i in range(100000):\n",
    "    \n",
    "    y_pred = model.predict(x)\n",
    "    \n",
    "    loss = model.MSEloss(y_pred, y_true)\n",
    "    losses = np.append(losses, loss)\n",
    "    \n",
    "    model.update()"
   ]
  },
  {
   "cell_type": "code",
   "execution_count": 14,
   "metadata": {},
   "outputs": [
    {
     "name": "stdout",
     "output_type": "stream",
     "text": [
      "After Training\n",
      "Slope :  3.0132614509372453\n",
      "Intercept :  2.012786256560173\n"
     ]
    }
   ],
   "source": [
    "print('After Training')\n",
    "print('Slope : ', model.slope)\n",
    "print('Intercept : ', model.intercept)"
   ]
  },
  {
   "cell_type": "code",
   "execution_count": 11,
   "metadata": {},
   "outputs": [
    {
     "data": {
      "text/plain": [
       "[<matplotlib.lines.Line2D at 0x1bbc93e1860>]"
      ]
     },
     "execution_count": 11,
     "metadata": {},
     "output_type": "execute_result"
    },
    {
     "data": {
      "image/png": "[encoded data removed]",
      "text/plain": [
       "<Figure size 432x288 with 1 Axes>"
      ]
     },
     "metadata": {
      "needs_background": "light"
     },
     "output_type": "display_data"
    }
   ],
   "source": [
    "# Plot Loss\n",
    "fig = plt.figure()\n",
    "ax = fig.add_subplot(111)\n",
    "ax.plot(range(losses.size),losses)"
   ]
  },
  {
   "cell_type": "code",
   "execution_count": 12,
   "metadata": {},
   "outputs": [
    {
     "data": {
      "text/plain": [
       "[<matplotlib.lines.Line2D at 0x1bbc97376d8>]"
      ]
     },
     "execution_count": 12,
     "metadata": {},
     "output_type": "execute_result"
    },
    {
     "data": {
      "image/png": "[encoded data removed]",
      "text/plain": [
       "<Figure size 432x288 with 1 Axes>"
      ]
     },
     "metadata": {
      "needs_background": "light"
     },
     "output_type": "display_data"
    }
   ],
   "source": [
    "# Regression Line\n",
    "fig2 = plt.figure()\n",
    "ax2 = fig2.add_subplot(111)\n",
    "ax2.scatter(y_true, x)\n",
    "y = model.predict(x)\n",
    "ax2.plot(y,x, c = 'red')"
   ]
  },
  {
   "cell_type": "code",
   "execution_count": null,
   "metadata": {},
   "outputs": [],
   "source": []
  }
 ],
 "metadata": {
  "kernelspec": {
   "display_name": "Python 3",
   "language": "python",
   "name": "python3"
  },
  "language_info": {
   "codemirror_mode": {
    "name": "ipython",
    "version": 3
   },
   "file_extension": ".py",
   "mimetype": "text/x-python",
   "name": "python",
   "nbconvert_exporter": "python",
   "pygments_lexer": "ipython3",
   "version": "3.7.3"
  }
 },
 "nbformat": 4,
 "nbformat_minor": 2
}
