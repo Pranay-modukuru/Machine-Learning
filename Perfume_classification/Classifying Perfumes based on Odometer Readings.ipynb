{
 "cells": [
  {
   "cell_type": "markdown",
   "metadata": {},
   "source": [
    "## Perfume Data Data Set\n",
    "\n",
    "Dataset available at https://archive.ics.uci.edu/ml/datasets/Perfume+Data\n",
    "\n",
    "#### Abstract:\n",
    "    This data consists of odors of 20 different perfumes. Data was obtained by using a handheld odor meter (OMX-GR sensor) per second for 28 seconds period.\n",
    "\n",
    "#### Data Set Information:\n",
    "\n",
    "    The data set gathered when we were working at project for Bahrain university between 2002 and 2003.\n",
    "\n",
    "\n",
    "#### Attribute Information:\n",
    "\n",
    "    The data was obtained from 20 different perfumes by using a handheld odor meter(OMX-GR sensor). Names of these perfumes are: ajayeb, ajmal, amreaj, aood, asgar_ali, bukhoor, burberry, dehenalaod, junaid, kausar, rose, solidmusk, TeaTreeOil, raspberry, RoseMusk, strawberry, constrected2, carolina_herrera, oudh_ma'alattar, constrected1. Each column represent a measurement and there were 28 takes (one each second)\n",
    "\n",
    "\n",
    "\n",
    "\n"
   ]
  },
  {
   "cell_type": "markdown",
   "metadata": {},
   "source": [
    "### Classification Task\n",
    "\n",
    "This notebook demonstrates how a machine learning model can determine the type of perfume based on the odometer reading. "
   ]
  },
  {
   "cell_type": "code",
   "execution_count": 1,
   "metadata": {},
   "outputs": [],
   "source": [
    "import numpy as np\n",
    "import pandas as pd\n",
    "import matplotlib.pyplot as plt\n",
    "\n",
    "from sklearn.preprocessing import LabelEncoder\n",
    "from sklearn.model_selection import train_test_split\n",
    "from sklearn.metrics import accuracy_score, confusion_matrix\n",
    "from sklearn.tree import DecisionTreeClassifier\n",
    "from sklearn.ensemble import RandomForestClassifier\n",
    "\n",
    "seed = 97\n",
    "np.random.seed(seed)\n",
    "%matplotlib inline"
   ]
  },
  {
   "cell_type": "markdown",
   "metadata": {},
   "source": [
    "Reading the data"
   ]
  },
  {
   "cell_type": "code",
   "execution_count": 2,
   "metadata": {},
   "outputs": [],
   "source": [
    "data = pd.read_excel('data/perfume_data.xlsx', header=None)"
   ]
  },
  {
   "cell_type": "code",
   "execution_count": 3,
   "metadata": {},
   "outputs": [
    {
     "data": {
      "text/html": [
       "<div>\n",
       "<style scoped>\n",
       "    .dataframe tbody tr th:only-of-type {\n",
       "        vertical-align: middle;\n",
       "    }\n",
       "\n",
       "    .dataframe tbody tr th {\n",
       "        vertical-align: top;\n",
       "    }\n",
       "\n",
       "    .dataframe thead th {\n",
       "        text-align: right;\n",
       "    }\n",
       "</style>\n",
       "<table border=\"1\" class=\"dataframe\">\n",
       "  <thead>\n",
       "    <tr style=\"text-align: right;\">\n",
       "      <th></th>\n",
       "      <th>0</th>\n",
       "      <th>1</th>\n",
       "      <th>2</th>\n",
       "      <th>3</th>\n",
       "      <th>4</th>\n",
       "      <th>5</th>\n",
       "      <th>6</th>\n",
       "      <th>7</th>\n",
       "      <th>8</th>\n",
       "      <th>9</th>\n",
       "      <th>...</th>\n",
       "      <th>19</th>\n",
       "      <th>20</th>\n",
       "      <th>21</th>\n",
       "      <th>22</th>\n",
       "      <th>23</th>\n",
       "      <th>24</th>\n",
       "      <th>25</th>\n",
       "      <th>26</th>\n",
       "      <th>27</th>\n",
       "      <th>28</th>\n",
       "    </tr>\n",
       "  </thead>\n",
       "  <tbody>\n",
       "    <tr>\n",
       "      <td>0</td>\n",
       "      <td>ajayeb</td>\n",
       "      <td>64558</td>\n",
       "      <td>64556</td>\n",
       "      <td>64543</td>\n",
       "      <td>64543</td>\n",
       "      <td>64541</td>\n",
       "      <td>64543</td>\n",
       "      <td>64543</td>\n",
       "      <td>64541</td>\n",
       "      <td>64541</td>\n",
       "      <td>...</td>\n",
       "      <td>64541</td>\n",
       "      <td>64541</td>\n",
       "      <td>64541</td>\n",
       "      <td>64541</td>\n",
       "      <td>64541</td>\n",
       "      <td>64541</td>\n",
       "      <td>64528</td>\n",
       "      <td>64528</td>\n",
       "      <td>64528</td>\n",
       "      <td>64528</td>\n",
       "    </tr>\n",
       "    <tr>\n",
       "      <td>1</td>\n",
       "      <td>ajmal</td>\n",
       "      <td>60502</td>\n",
       "      <td>60489</td>\n",
       "      <td>61485</td>\n",
       "      <td>60487</td>\n",
       "      <td>61485</td>\n",
       "      <td>61513</td>\n",
       "      <td>60515</td>\n",
       "      <td>60500</td>\n",
       "      <td>60500</td>\n",
       "      <td>...</td>\n",
       "      <td>60472</td>\n",
       "      <td>60472</td>\n",
       "      <td>60461</td>\n",
       "      <td>61470</td>\n",
       "      <td>60487</td>\n",
       "      <td>60487</td>\n",
       "      <td>61485</td>\n",
       "      <td>60487</td>\n",
       "      <td>60472</td>\n",
       "      <td>60472</td>\n",
       "    </tr>\n",
       "    <tr>\n",
       "      <td>2</td>\n",
       "      <td>amreaj</td>\n",
       "      <td>57040</td>\n",
       "      <td>57040</td>\n",
       "      <td>57040</td>\n",
       "      <td>58041</td>\n",
       "      <td>58041</td>\n",
       "      <td>58041</td>\n",
       "      <td>58041</td>\n",
       "      <td>57042</td>\n",
       "      <td>57042</td>\n",
       "      <td>...</td>\n",
       "      <td>58041</td>\n",
       "      <td>58041</td>\n",
       "      <td>58041</td>\n",
       "      <td>58041</td>\n",
       "      <td>58041</td>\n",
       "      <td>58041</td>\n",
       "      <td>58041</td>\n",
       "      <td>58041</td>\n",
       "      <td>58041</td>\n",
       "      <td>58041</td>\n",
       "    </tr>\n",
       "    <tr>\n",
       "      <td>3</td>\n",
       "      <td>aood</td>\n",
       "      <td>71083</td>\n",
       "      <td>72087</td>\n",
       "      <td>71091</td>\n",
       "      <td>71095</td>\n",
       "      <td>71099</td>\n",
       "      <td>72103</td>\n",
       "      <td>71099</td>\n",
       "      <td>72099</td>\n",
       "      <td>72099</td>\n",
       "      <td>...</td>\n",
       "      <td>72095</td>\n",
       "      <td>71095</td>\n",
       "      <td>71095</td>\n",
       "      <td>72103</td>\n",
       "      <td>71103</td>\n",
       "      <td>71103</td>\n",
       "      <td>71103</td>\n",
       "      <td>72103</td>\n",
       "      <td>72103</td>\n",
       "      <td>72098</td>\n",
       "    </tr>\n",
       "    <tr>\n",
       "      <td>4</td>\n",
       "      <td>asgar_ali</td>\n",
       "      <td>68209</td>\n",
       "      <td>68209</td>\n",
       "      <td>68216</td>\n",
       "      <td>68216</td>\n",
       "      <td>68223</td>\n",
       "      <td>68223</td>\n",
       "      <td>68223</td>\n",
       "      <td>68223</td>\n",
       "      <td>68230</td>\n",
       "      <td>...</td>\n",
       "      <td>68230</td>\n",
       "      <td>67224</td>\n",
       "      <td>67217</td>\n",
       "      <td>67217</td>\n",
       "      <td>68223</td>\n",
       "      <td>68223</td>\n",
       "      <td>68223</td>\n",
       "      <td>68223</td>\n",
       "      <td>68223</td>\n",
       "      <td>68230</td>\n",
       "    </tr>\n",
       "  </tbody>\n",
       "</table>\n",
       "<p>5 rows × 29 columns</p>\n",
       "</div>"
      ],
      "text/plain": [
       "          0      1      2      3      4      5      6      7      8      9   \\\n",
       "0     ajayeb  64558  64556  64543  64543  64541  64543  64543  64541  64541   \n",
       "1      ajmal  60502  60489  61485  60487  61485  61513  60515  60500  60500   \n",
       "2     amreaj  57040  57040  57040  58041  58041  58041  58041  57042  57042   \n",
       "3       aood  71083  72087  71091  71095  71099  72103  71099  72099  72099   \n",
       "4  asgar_ali  68209  68209  68216  68216  68223  68223  68223  68223  68230   \n",
       "\n",
       "   ...     19     20     21     22     23     24     25     26     27     28  \n",
       "0  ...  64541  64541  64541  64541  64541  64541  64528  64528  64528  64528  \n",
       "1  ...  60472  60472  60461  61470  60487  60487  61485  60487  60472  60472  \n",
       "2  ...  58041  58041  58041  58041  58041  58041  58041  58041  58041  58041  \n",
       "3  ...  72095  71095  71095  72103  71103  71103  71103  72103  72103  72098  \n",
       "4  ...  68230  67224  67217  67217  68223  68223  68223  68223  68223  68230  \n",
       "\n",
       "[5 rows x 29 columns]"
      ]
     },
     "execution_count": 3,
     "metadata": {},
     "output_type": "execute_result"
    }
   ],
   "source": [
    "data.head()"
   ]
  },
  {
   "cell_type": "markdown",
   "metadata": {},
   "source": [
    "Renaming the '0' column to 'perfume'"
   ]
  },
  {
   "cell_type": "code",
   "execution_count": 4,
   "metadata": {},
   "outputs": [],
   "source": [
    "data['perfume'] = data[0]\n",
    "data = data.drop(0, axis = 1)"
   ]
  },
  {
   "cell_type": "code",
   "execution_count": 5,
   "metadata": {},
   "outputs": [
    {
     "data": {
      "text/html": [
       "<div>\n",
       "<style scoped>\n",
       "    .dataframe tbody tr th:only-of-type {\n",
       "        vertical-align: middle;\n",
       "    }\n",
       "\n",
       "    .dataframe tbody tr th {\n",
       "        vertical-align: top;\n",
       "    }\n",
       "\n",
       "    .dataframe thead th {\n",
       "        text-align: right;\n",
       "    }\n",
       "</style>\n",
       "<table border=\"1\" class=\"dataframe\">\n",
       "  <thead>\n",
       "    <tr style=\"text-align: right;\">\n",
       "      <th></th>\n",
       "      <th>1</th>\n",
       "      <th>2</th>\n",
       "      <th>3</th>\n",
       "      <th>4</th>\n",
       "      <th>5</th>\n",
       "      <th>6</th>\n",
       "      <th>7</th>\n",
       "      <th>8</th>\n",
       "      <th>9</th>\n",
       "      <th>10</th>\n",
       "      <th>...</th>\n",
       "      <th>20</th>\n",
       "      <th>21</th>\n",
       "      <th>22</th>\n",
       "      <th>23</th>\n",
       "      <th>24</th>\n",
       "      <th>25</th>\n",
       "      <th>26</th>\n",
       "      <th>27</th>\n",
       "      <th>28</th>\n",
       "      <th>perfume</th>\n",
       "    </tr>\n",
       "  </thead>\n",
       "  <tbody>\n",
       "    <tr>\n",
       "      <td>0</td>\n",
       "      <td>64558</td>\n",
       "      <td>64556</td>\n",
       "      <td>64543</td>\n",
       "      <td>64543</td>\n",
       "      <td>64541</td>\n",
       "      <td>64543</td>\n",
       "      <td>64543</td>\n",
       "      <td>64541</td>\n",
       "      <td>64541</td>\n",
       "      <td>64541</td>\n",
       "      <td>...</td>\n",
       "      <td>64541</td>\n",
       "      <td>64541</td>\n",
       "      <td>64541</td>\n",
       "      <td>64541</td>\n",
       "      <td>64541</td>\n",
       "      <td>64528</td>\n",
       "      <td>64528</td>\n",
       "      <td>64528</td>\n",
       "      <td>64528</td>\n",
       "      <td>ajayeb</td>\n",
       "    </tr>\n",
       "    <tr>\n",
       "      <td>1</td>\n",
       "      <td>60502</td>\n",
       "      <td>60489</td>\n",
       "      <td>61485</td>\n",
       "      <td>60487</td>\n",
       "      <td>61485</td>\n",
       "      <td>61513</td>\n",
       "      <td>60515</td>\n",
       "      <td>60500</td>\n",
       "      <td>60500</td>\n",
       "      <td>60487</td>\n",
       "      <td>...</td>\n",
       "      <td>60472</td>\n",
       "      <td>60461</td>\n",
       "      <td>61470</td>\n",
       "      <td>60487</td>\n",
       "      <td>60487</td>\n",
       "      <td>61485</td>\n",
       "      <td>60487</td>\n",
       "      <td>60472</td>\n",
       "      <td>60472</td>\n",
       "      <td>ajmal</td>\n",
       "    </tr>\n",
       "    <tr>\n",
       "      <td>2</td>\n",
       "      <td>57040</td>\n",
       "      <td>57040</td>\n",
       "      <td>57040</td>\n",
       "      <td>58041</td>\n",
       "      <td>58041</td>\n",
       "      <td>58041</td>\n",
       "      <td>58041</td>\n",
       "      <td>57042</td>\n",
       "      <td>57042</td>\n",
       "      <td>58043</td>\n",
       "      <td>...</td>\n",
       "      <td>58041</td>\n",
       "      <td>58041</td>\n",
       "      <td>58041</td>\n",
       "      <td>58041</td>\n",
       "      <td>58041</td>\n",
       "      <td>58041</td>\n",
       "      <td>58041</td>\n",
       "      <td>58041</td>\n",
       "      <td>58041</td>\n",
       "      <td>amreaj</td>\n",
       "    </tr>\n",
       "    <tr>\n",
       "      <td>3</td>\n",
       "      <td>71083</td>\n",
       "      <td>72087</td>\n",
       "      <td>71091</td>\n",
       "      <td>71095</td>\n",
       "      <td>71099</td>\n",
       "      <td>72103</td>\n",
       "      <td>71099</td>\n",
       "      <td>72099</td>\n",
       "      <td>72099</td>\n",
       "      <td>73098</td>\n",
       "      <td>...</td>\n",
       "      <td>71095</td>\n",
       "      <td>71095</td>\n",
       "      <td>72103</td>\n",
       "      <td>71103</td>\n",
       "      <td>71103</td>\n",
       "      <td>71103</td>\n",
       "      <td>72103</td>\n",
       "      <td>72103</td>\n",
       "      <td>72098</td>\n",
       "      <td>aood</td>\n",
       "    </tr>\n",
       "    <tr>\n",
       "      <td>4</td>\n",
       "      <td>68209</td>\n",
       "      <td>68209</td>\n",
       "      <td>68216</td>\n",
       "      <td>68216</td>\n",
       "      <td>68223</td>\n",
       "      <td>68223</td>\n",
       "      <td>68223</td>\n",
       "      <td>68223</td>\n",
       "      <td>68230</td>\n",
       "      <td>68230</td>\n",
       "      <td>...</td>\n",
       "      <td>67224</td>\n",
       "      <td>67217</td>\n",
       "      <td>67217</td>\n",
       "      <td>68223</td>\n",
       "      <td>68223</td>\n",
       "      <td>68223</td>\n",
       "      <td>68223</td>\n",
       "      <td>68223</td>\n",
       "      <td>68230</td>\n",
       "      <td>asgar_ali</td>\n",
       "    </tr>\n",
       "  </tbody>\n",
       "</table>\n",
       "<p>5 rows × 29 columns</p>\n",
       "</div>"
      ],
      "text/plain": [
       "       1      2      3      4      5      6      7      8      9     10  ...  \\\n",
       "0  64558  64556  64543  64543  64541  64543  64543  64541  64541  64541  ...   \n",
       "1  60502  60489  61485  60487  61485  61513  60515  60500  60500  60487  ...   \n",
       "2  57040  57040  57040  58041  58041  58041  58041  57042  57042  58043  ...   \n",
       "3  71083  72087  71091  71095  71099  72103  71099  72099  72099  73098  ...   \n",
       "4  68209  68209  68216  68216  68223  68223  68223  68223  68230  68230  ...   \n",
       "\n",
       "      20     21     22     23     24     25     26     27     28    perfume  \n",
       "0  64541  64541  64541  64541  64541  64528  64528  64528  64528     ajayeb  \n",
       "1  60472  60461  61470  60487  60487  61485  60487  60472  60472      ajmal  \n",
       "2  58041  58041  58041  58041  58041  58041  58041  58041  58041     amreaj  \n",
       "3  71095  71095  72103  71103  71103  71103  72103  72103  72098       aood  \n",
       "4  67224  67217  67217  68223  68223  68223  68223  68223  68230  asgar_ali  \n",
       "\n",
       "[5 rows x 29 columns]"
      ]
     },
     "execution_count": 5,
     "metadata": {},
     "output_type": "execute_result"
    }
   ],
   "source": [
    "data.head()"
   ]
  },
  {
   "cell_type": "code",
   "execution_count": 6,
   "metadata": {},
   "outputs": [
    {
     "data": {
      "text/plain": [
       "(20, 29)"
      ]
     },
     "execution_count": 6,
     "metadata": {},
     "output_type": "execute_result"
    }
   ],
   "source": [
    "data.shape"
   ]
  },
  {
   "cell_type": "code",
   "execution_count": 7,
   "metadata": {},
   "outputs": [],
   "source": [
    "perfumes = list(data.iloc[:,-1])"
   ]
  },
  {
   "cell_type": "code",
   "execution_count": 8,
   "metadata": {},
   "outputs": [
    {
     "data": {
      "text/plain": [
       "['ajayeb',\n",
       " 'ajmal',\n",
       " 'amreaj',\n",
       " 'aood',\n",
       " 'asgar_ali',\n",
       " 'bukhoor',\n",
       " 'burberrry',\n",
       " 'dehenalaod',\n",
       " 'junaid',\n",
       " 'kausar',\n",
       " 'rose',\n",
       " 'solidmusk',\n",
       " 'TeaTreeOil',\n",
       " 'raspberry',\n",
       " 'RoseMusk',\n",
       " 'strawberry',\n",
       " 'constrected2',\n",
       " 'carolina_herrera',\n",
       " \"oudh_ma'alattar\",\n",
       " 'constrected']"
      ]
     },
     "execution_count": 8,
     "metadata": {},
     "output_type": "execute_result"
    }
   ],
   "source": [
    "perfumes"
   ]
  },
  {
   "cell_type": "markdown",
   "metadata": {},
   "source": [
    "#### As each row in the data frame consists of 28 Odometer measurement values and the corresponding name of the Perfume. This form has to be converted into a form which has each observation as a row and each attribute as column.\n",
    "\n",
    "For this a new Dataframe is created and the values are appended correspondingly"
   ]
  },
  {
   "cell_type": "code",
   "execution_count": 9,
   "metadata": {},
   "outputs": [
    {
     "data": {
      "text/html": [
       "<div>\n",
       "<style scoped>\n",
       "    .dataframe tbody tr th:only-of-type {\n",
       "        vertical-align: middle;\n",
       "    }\n",
       "\n",
       "    .dataframe tbody tr th {\n",
       "        vertical-align: top;\n",
       "    }\n",
       "\n",
       "    .dataframe thead th {\n",
       "        text-align: right;\n",
       "    }\n",
       "</style>\n",
       "<table border=\"1\" class=\"dataframe\">\n",
       "  <thead>\n",
       "    <tr style=\"text-align: right;\">\n",
       "      <th></th>\n",
       "      <th>Observation</th>\n",
       "      <th>Perfume</th>\n",
       "    </tr>\n",
       "  </thead>\n",
       "  <tbody>\n",
       "  </tbody>\n",
       "</table>\n",
       "</div>"
      ],
      "text/plain": [
       "Empty DataFrame\n",
       "Columns: [Observation, Perfume]\n",
       "Index: []"
      ]
     },
     "execution_count": 9,
     "metadata": {},
     "output_type": "execute_result"
    }
   ],
   "source": [
    "df = pd.DataFrame([], columns = ['Observation', 'Perfume'])\n",
    "df"
   ]
  },
  {
   "cell_type": "code",
   "execution_count": 10,
   "metadata": {},
   "outputs": [],
   "source": [
    "observations = np.array([])\n",
    "labels = np.array([])\n",
    "\n",
    "for perfume in range(len(perfumes)):\n",
    "    for i in range(27):\n",
    "        obs, label = data.iloc[perfume,i], data.iloc[perfume,-1]\n",
    "        observations = np.append(observations, obs)\n",
    "        labels = np.append(labels, label)"
   ]
  },
  {
   "cell_type": "code",
   "execution_count": 11,
   "metadata": {},
   "outputs": [],
   "source": [
    "observations = pd.Series(observations)\n",
    "labels = pd.Series(labels)"
   ]
  },
  {
   "cell_type": "code",
   "execution_count": 12,
   "metadata": {},
   "outputs": [],
   "source": [
    "df.Observation = observations\n",
    "df.Perfume = labels"
   ]
  },
  {
   "cell_type": "code",
   "execution_count": 13,
   "metadata": {},
   "outputs": [
    {
     "data": {
      "text/html": [
       "<div>\n",
       "<style scoped>\n",
       "    .dataframe tbody tr th:only-of-type {\n",
       "        vertical-align: middle;\n",
       "    }\n",
       "\n",
       "    .dataframe tbody tr th {\n",
       "        vertical-align: top;\n",
       "    }\n",
       "\n",
       "    .dataframe thead th {\n",
       "        text-align: right;\n",
       "    }\n",
       "</style>\n",
       "<table border=\"1\" class=\"dataframe\">\n",
       "  <thead>\n",
       "    <tr style=\"text-align: right;\">\n",
       "      <th></th>\n",
       "      <th>Observation</th>\n",
       "      <th>Perfume</th>\n",
       "    </tr>\n",
       "  </thead>\n",
       "  <tbody>\n",
       "    <tr>\n",
       "      <td>0</td>\n",
       "      <td>64558.0</td>\n",
       "      <td>ajayeb</td>\n",
       "    </tr>\n",
       "    <tr>\n",
       "      <td>1</td>\n",
       "      <td>64556.0</td>\n",
       "      <td>ajayeb</td>\n",
       "    </tr>\n",
       "    <tr>\n",
       "      <td>2</td>\n",
       "      <td>64543.0</td>\n",
       "      <td>ajayeb</td>\n",
       "    </tr>\n",
       "    <tr>\n",
       "      <td>3</td>\n",
       "      <td>64543.0</td>\n",
       "      <td>ajayeb</td>\n",
       "    </tr>\n",
       "    <tr>\n",
       "      <td>4</td>\n",
       "      <td>64541.0</td>\n",
       "      <td>ajayeb</td>\n",
       "    </tr>\n",
       "  </tbody>\n",
       "</table>\n",
       "</div>"
      ],
      "text/plain": [
       "   Observation Perfume\n",
       "0      64558.0  ajayeb\n",
       "1      64556.0  ajayeb\n",
       "2      64543.0  ajayeb\n",
       "3      64543.0  ajayeb\n",
       "4      64541.0  ajayeb"
      ]
     },
     "execution_count": 13,
     "metadata": {},
     "output_type": "execute_result"
    }
   ],
   "source": [
    "df.head()"
   ]
  },
  {
   "cell_type": "markdown",
   "metadata": {},
   "source": [
    "#### Shuffling the dataset"
   ]
  },
  {
   "cell_type": "code",
   "execution_count": 14,
   "metadata": {},
   "outputs": [],
   "source": [
    "df = df.sample(frac=1, random_state=seed).reset_index(drop=True)"
   ]
  },
  {
   "cell_type": "code",
   "execution_count": 15,
   "metadata": {},
   "outputs": [
    {
     "data": {
      "text/html": [
       "<div>\n",
       "<style scoped>\n",
       "    .dataframe tbody tr th:only-of-type {\n",
       "        vertical-align: middle;\n",
       "    }\n",
       "\n",
       "    .dataframe tbody tr th {\n",
       "        vertical-align: top;\n",
       "    }\n",
       "\n",
       "    .dataframe thead th {\n",
       "        text-align: right;\n",
       "    }\n",
       "</style>\n",
       "<table border=\"1\" class=\"dataframe\">\n",
       "  <thead>\n",
       "    <tr style=\"text-align: right;\">\n",
       "      <th></th>\n",
       "      <th>Observation</th>\n",
       "      <th>Perfume</th>\n",
       "    </tr>\n",
       "  </thead>\n",
       "  <tbody>\n",
       "    <tr>\n",
       "      <td>0</td>\n",
       "      <td>62999.0</td>\n",
       "      <td>rose</td>\n",
       "    </tr>\n",
       "    <tr>\n",
       "      <td>1</td>\n",
       "      <td>68223.0</td>\n",
       "      <td>asgar_ali</td>\n",
       "    </tr>\n",
       "    <tr>\n",
       "      <td>2</td>\n",
       "      <td>73585.0</td>\n",
       "      <td>kausar</td>\n",
       "    </tr>\n",
       "    <tr>\n",
       "      <td>3</td>\n",
       "      <td>62999.0</td>\n",
       "      <td>rose</td>\n",
       "    </tr>\n",
       "    <tr>\n",
       "      <td>4</td>\n",
       "      <td>60528.0</td>\n",
       "      <td>ajmal</td>\n",
       "    </tr>\n",
       "  </tbody>\n",
       "</table>\n",
       "</div>"
      ],
      "text/plain": [
       "   Observation    Perfume\n",
       "0      62999.0       rose\n",
       "1      68223.0  asgar_ali\n",
       "2      73585.0     kausar\n",
       "3      62999.0       rose\n",
       "4      60528.0      ajmal"
      ]
     },
     "execution_count": 15,
     "metadata": {},
     "output_type": "execute_result"
    }
   ],
   "source": [
    "df.head()"
   ]
  },
  {
   "cell_type": "code",
   "execution_count": 16,
   "metadata": {},
   "outputs": [
    {
     "name": "stdout",
     "output_type": "stream",
     "text": [
      "<class 'pandas.core.frame.DataFrame'>\n",
      "RangeIndex: 540 entries, 0 to 539\n",
      "Data columns (total 2 columns):\n",
      "Observation    540 non-null float64\n",
      "Perfume        540 non-null object\n",
      "dtypes: float64(1), object(1)\n",
      "memory usage: 8.6+ KB\n"
     ]
    }
   ],
   "source": [
    "df.info()"
   ]
  },
  {
   "cell_type": "code",
   "execution_count": 17,
   "metadata": {},
   "outputs": [
    {
     "data": {
      "text/html": [
       "<div>\n",
       "<style scoped>\n",
       "    .dataframe tbody tr th:only-of-type {\n",
       "        vertical-align: middle;\n",
       "    }\n",
       "\n",
       "    .dataframe tbody tr th {\n",
       "        vertical-align: top;\n",
       "    }\n",
       "\n",
       "    .dataframe thead th {\n",
       "        text-align: right;\n",
       "    }\n",
       "</style>\n",
       "<table border=\"1\" class=\"dataframe\">\n",
       "  <thead>\n",
       "    <tr style=\"text-align: right;\">\n",
       "      <th></th>\n",
       "      <th>Observation</th>\n",
       "    </tr>\n",
       "    <tr>\n",
       "      <th>Perfume</th>\n",
       "      <th></th>\n",
       "    </tr>\n",
       "  </thead>\n",
       "  <tbody>\n",
       "    <tr>\n",
       "      <td>RoseMusk</td>\n",
       "      <td>85056.000000</td>\n",
       "    </tr>\n",
       "    <tr>\n",
       "      <td>TeaTreeOil</td>\n",
       "      <td>82428.111111</td>\n",
       "    </tr>\n",
       "    <tr>\n",
       "      <td>ajayeb</td>\n",
       "      <td>64465.111111</td>\n",
       "    </tr>\n",
       "    <tr>\n",
       "      <td>ajmal</td>\n",
       "      <td>60790.148148</td>\n",
       "    </tr>\n",
       "    <tr>\n",
       "      <td>amreaj</td>\n",
       "      <td>57819.148148</td>\n",
       "    </tr>\n",
       "    <tr>\n",
       "      <td>aood</td>\n",
       "      <td>71800.074074</td>\n",
       "    </tr>\n",
       "    <tr>\n",
       "      <td>asgar_ali</td>\n",
       "      <td>68111.740741</td>\n",
       "    </tr>\n",
       "    <tr>\n",
       "      <td>bukhoor</td>\n",
       "      <td>70269.111111</td>\n",
       "    </tr>\n",
       "    <tr>\n",
       "      <td>burberrry</td>\n",
       "      <td>60462.185185</td>\n",
       "    </tr>\n",
       "    <tr>\n",
       "      <td>carolina_herrera</td>\n",
       "      <td>64208.666667</td>\n",
       "    </tr>\n",
       "    <tr>\n",
       "      <td>constrected</td>\n",
       "      <td>65628.074074</td>\n",
       "    </tr>\n",
       "    <tr>\n",
       "      <td>constrected2</td>\n",
       "      <td>66568.814815</td>\n",
       "    </tr>\n",
       "    <tr>\n",
       "      <td>dehenalaod</td>\n",
       "      <td>68806.259259</td>\n",
       "    </tr>\n",
       "    <tr>\n",
       "      <td>junaid</td>\n",
       "      <td>72194.111111</td>\n",
       "    </tr>\n",
       "    <tr>\n",
       "      <td>kausar</td>\n",
       "      <td>73995.185185</td>\n",
       "    </tr>\n",
       "    <tr>\n",
       "      <td>oudh_ma'alattar</td>\n",
       "      <td>66834.555556</td>\n",
       "    </tr>\n",
       "    <tr>\n",
       "      <td>raspberry</td>\n",
       "      <td>79443.444444</td>\n",
       "    </tr>\n",
       "    <tr>\n",
       "      <td>rose</td>\n",
       "      <td>62887.888889</td>\n",
       "    </tr>\n",
       "    <tr>\n",
       "      <td>solidmusk</td>\n",
       "      <td>46014.814815</td>\n",
       "    </tr>\n",
       "    <tr>\n",
       "      <td>strawberry</td>\n",
       "      <td>71665.666667</td>\n",
       "    </tr>\n",
       "  </tbody>\n",
       "</table>\n",
       "</div>"
      ],
      "text/plain": [
       "                   Observation\n",
       "Perfume                       \n",
       "RoseMusk          85056.000000\n",
       "TeaTreeOil        82428.111111\n",
       "ajayeb            64465.111111\n",
       "ajmal             60790.148148\n",
       "amreaj            57819.148148\n",
       "aood              71800.074074\n",
       "asgar_ali         68111.740741\n",
       "bukhoor           70269.111111\n",
       "burberrry         60462.185185\n",
       "carolina_herrera  64208.666667\n",
       "constrected       65628.074074\n",
       "constrected2      66568.814815\n",
       "dehenalaod        68806.259259\n",
       "junaid            72194.111111\n",
       "kausar            73995.185185\n",
       "oudh_ma'alattar   66834.555556\n",
       "raspberry         79443.444444\n",
       "rose              62887.888889\n",
       "solidmusk         46014.814815\n",
       "strawberry        71665.666667"
      ]
     },
     "execution_count": 17,
     "metadata": {},
     "output_type": "execute_result"
    }
   ],
   "source": [
    "df.groupby('Perfume').mean()"
   ]
  },
  {
   "cell_type": "code",
   "execution_count": 18,
   "metadata": {},
   "outputs": [
    {
     "data": {
      "image/png": "[encoded data removed]",
      "text/plain": [
       "<Figure size 720x288 with 1 Axes>"
      ]
     },
     "metadata": {
      "needs_background": "light"
     },
     "output_type": "display_data"
    }
   ],
   "source": [
    "df.groupby('Perfume').mean().plot(kind='bar', figsize=(10,4))\n",
    "plt.ylabel('Mean of measurements')\n",
    "plt.show()"
   ]
  },
  {
   "cell_type": "markdown",
   "metadata": {},
   "source": [
    "#### Encoding the labels into numericals"
   ]
  },
  {
   "cell_type": "code",
   "execution_count": 19,
   "metadata": {},
   "outputs": [],
   "source": [
    "le = LabelEncoder()\n",
    "\n",
    "df['Label'] = le.fit_transform(df.Perfume)"
   ]
  },
  {
   "cell_type": "code",
   "execution_count": 20,
   "metadata": {},
   "outputs": [],
   "source": [
    "X = df.Observation.to_numpy().reshape(-1, 1)\n",
    "y = df.Label"
   ]
  },
  {
   "cell_type": "markdown",
   "metadata": {},
   "source": [
    "Splitting into Training and Test sets"
   ]
  },
  {
   "cell_type": "code",
   "execution_count": 21,
   "metadata": {},
   "outputs": [],
   "source": [
    "X_train, X_test, y_train, y_test = train_test_split(X, y, test_size = 0.3, random_state = seed)"
   ]
  },
  {
   "cell_type": "markdown",
   "metadata": {},
   "source": [
    "#### Building Model and making Predictions\n",
    "\n",
    "##### Decision Tree Classifier"
   ]
  },
  {
   "cell_type": "code",
   "execution_count": 22,
   "metadata": {},
   "outputs": [
    {
     "name": "stdout",
     "output_type": "stream",
     "text": [
      "Accuracy Score -  1.0\n",
      "\n",
      "Confusion matrix -\n",
      " [[ 7  0  0  0  0  0  0  0  0  0  0  0  0  0  0  0  0  0  0  0]\n",
      " [ 0  7  0  0  0  0  0  0  0  0  0  0  0  0  0  0  0  0  0  0]\n",
      " [ 0  0 10  0  0  0  0  0  0  0  0  0  0  0  0  0  0  0  0  0]\n",
      " [ 0  0  0  4  0  0  0  0  0  0  0  0  0  0  0  0  0  0  0  0]\n",
      " [ 0  0  0  0  6  0  0  0  0  0  0  0  0  0  0  0  0  0  0  0]\n",
      " [ 0  0  0  0  0  7  0  0  0  0  0  0  0  0  0  0  0  0  0  0]\n",
      " [ 0  0  0  0  0  0  6  0  0  0  0  0  0  0  0  0  0  0  0  0]\n",
      " [ 0  0  0  0  0  0  0  8  0  0  0  0  0  0  0  0  0  0  0  0]\n",
      " [ 0  0  0  0  0  0  0  0 10  0  0  0  0  0  0  0  0  0  0  0]\n",
      " [ 0  0  0  0  0  0  0  0  0 12  0  0  0  0  0  0  0  0  0  0]\n",
      " [ 0  0  0  0  0  0  0  0  0  0  9  0  0  0  0  0  0  0  0  0]\n",
      " [ 0  0  0  0  0  0  0  0  0  0  0  8  0  0  0  0  0  0  0  0]\n",
      " [ 0  0  0  0  0  0  0  0  0  0  0  0 10  0  0  0  0  0  0  0]\n",
      " [ 0  0  0  0  0  0  0  0  0  0  0  0  0  7  0  0  0  0  0  0]\n",
      " [ 0  0  0  0  0  0  0  0  0  0  0  0  0  0  8  0  0  0  0  0]\n",
      " [ 0  0  0  0  0  0  0  0  0  0  0  0  0  0  0  8  0  0  0  0]\n",
      " [ 0  0  0  0  0  0  0  0  0  0  0  0  0  0  0  0 12  0  0  0]\n",
      " [ 0  0  0  0  0  0  0  0  0  0  0  0  0  0  0  0  0  6  0  0]\n",
      " [ 0  0  0  0  0  0  0  0  0  0  0  0  0  0  0  0  0  0 10  0]\n",
      " [ 0  0  0  0  0  0  0  0  0  0  0  0  0  0  0  0  0  0  0  7]]\n"
     ]
    }
   ],
   "source": [
    "dtc = DecisionTreeClassifier(random_state=seed)\n",
    "\n",
    "dtc.fit(X_train, y_train)\n",
    "\n",
    "y_pred = dtc.predict(X_test)\n",
    "\n",
    "print('Accuracy Score - ',  accuracy_score(y_test, y_pred))\n",
    "print('\\nConfusion matrix -\\n', confusion_matrix(y_test, y_pred))"
   ]
  },
  {
   "cell_type": "markdown",
   "metadata": {},
   "source": [
    "\n",
    "##### Random Forest Classifier"
   ]
  },
  {
   "cell_type": "code",
   "execution_count": 23,
   "metadata": {},
   "outputs": [
    {
     "name": "stdout",
     "output_type": "stream",
     "text": [
      "Accuracy Score -  0.9938271604938271\n",
      "\n",
      "Confusion matrix -\n",
      " [[ 7  0  0  0  0  0  0  0  0  0  0  0  0  0  0  0  0  0  0  0]\n",
      " [ 0  7  0  0  0  0  0  0  0  0  0  0  0  0  0  0  0  0  0  0]\n",
      " [ 0  0 10  0  0  0  0  0  0  0  0  0  0  0  0  0  0  0  0  0]\n",
      " [ 0  0  0  4  0  0  0  0  0  0  0  0  0  0  0  0  0  0  0  0]\n",
      " [ 0  0  0  0  6  0  0  0  0  0  0  0  0  0  0  0  0  0  0  0]\n",
      " [ 0  0  0  0  0  7  0  0  0  0  0  0  0  0  0  0  0  0  0  0]\n",
      " [ 0  0  0  0  0  0  5  0  0  0  0  0  0  0  0  1  0  0  0  0]\n",
      " [ 0  0  0  0  0  0  0  8  0  0  0  0  0  0  0  0  0  0  0  0]\n",
      " [ 0  0  0  0  0  0  0  0 10  0  0  0  0  0  0  0  0  0  0  0]\n",
      " [ 0  0  0  0  0  0  0  0  0 12  0  0  0  0  0  0  0  0  0  0]\n",
      " [ 0  0  0  0  0  0  0  0  0  0  9  0  0  0  0  0  0  0  0  0]\n",
      " [ 0  0  0  0  0  0  0  0  0  0  0  8  0  0  0  0  0  0  0  0]\n",
      " [ 0  0  0  0  0  0  0  0  0  0  0  0 10  0  0  0  0  0  0  0]\n",
      " [ 0  0  0  0  0  0  0  0  0  0  0  0  0  7  0  0  0  0  0  0]\n",
      " [ 0  0  0  0  0  0  0  0  0  0  0  0  0  0  8  0  0  0  0  0]\n",
      " [ 0  0  0  0  0  0  0  0  0  0  0  0  0  0  0  8  0  0  0  0]\n",
      " [ 0  0  0  0  0  0  0  0  0  0  0  0  0  0  0  0 12  0  0  0]\n",
      " [ 0  0  0  0  0  0  0  0  0  0  0  0  0  0  0  0  0  6  0  0]\n",
      " [ 0  0  0  0  0  0  0  0  0  0  0  0  0  0  0  0  0  0 10  0]\n",
      " [ 0  0  0  0  0  0  0  0  0  0  0  0  0  0  0  0  0  0  0  7]]\n"
     ]
    }
   ],
   "source": [
    "rc = RandomForestClassifier(n_estimators=200 ,random_state=seed)\n",
    "\n",
    "rc.fit(X_train, y_train)\n",
    "\n",
    "y_pred = rc.predict(X_test)\n",
    "\n",
    "print('Accuracy Score - ',  accuracy_score(y_test, y_pred))\n",
    "print('\\nConfusion matrix -\\n', confusion_matrix(y_test, y_pred))"
   ]
  },
  {
   "cell_type": "markdown",
   "metadata": {},
   "source": [
    "#### Decision Tree Classifier is the best choice for this task"
   ]
  }
 ],
 "metadata": {
  "kernelspec": {
   "display_name": "Python 3",
   "language": "python",
   "name": "python3"
  },
  "language_info": {
   "codemirror_mode": {
    "name": "ipython",
    "version": 3
   },
   "file_extension": ".py",
   "mimetype": "text/x-python",
   "name": "python",
   "nbconvert_exporter": "python",
   "pygments_lexer": "ipython3",
   "version": "3.7.3"
  }
 },
 "nbformat": 4,
 "nbformat_minor": 2
}
